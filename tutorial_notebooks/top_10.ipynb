{
 "cells": [
  {
   "cell_type": "code",
   "execution_count": 1,
   "metadata": {},
   "outputs": [
    {
     "name": "stdout",
     "output_type": "stream",
     "text": [
      "Top 10 keys based on values:\n",
      "['google/vit-base-patch16-224', 'timm/mobilenetv3_large_100.ra_in1k', 'microsoft/beit-base-patch16-224-pt22k-ft22k', 'timm/resnet50.a1_in1k', 'timm/resnet18.a1_in1k', 'WinKawaks/vit-tiny-patch16-224', 'amunchet/rorshark-vit-base', 'microsoft/resnet-50', 'microsoft/swin-base-patch4-window7-224-in22k', 'nateraw/vit-age-classifier']\n"
     ]
    }
   ],
   "source": [
    "import json\n",
    "\n",
    "# Open the JSON file and load its contents into a dictionary\n",
    "with open('/home/maria/HuggingMouse/src/HuggingMouse/sorted_models_downloads.json', 'r') as file:\n",
    "    data = json.load(file)\n",
    "\n",
    "# Sort the dictionary based on values in descending order\n",
    "sorted_data = dict(sorted(data.items(), key=lambda item: int(item[1]), reverse=True))\n",
    "\n",
    "# Get the top 10 keys\n",
    "top_10_keys = list(sorted_data.keys())[:10]\n",
    "\n",
    "print(\"Top 10 keys based on values:\")\n",
    "print(top_10_keys)"
   ]
  },
  {
   "cell_type": "code",
   "execution_count": 2,
   "metadata": {},
   "outputs": [
    {
     "name": "stdout",
     "output_type": "stream",
     "text": [
      "google/vit-base-patch16-224\n"
     ]
    },
    {
     "name": "stderr",
     "output_type": "stream",
     "text": [
      "Some weights of ViTModel were not initialized from the model checkpoint at google/vit-base-patch16-224 and are newly initialized: ['vit.pooler.dense.bias', 'vit.pooler.dense.weight']\n",
      "You should probably TRAIN this model on a down-stream task to be able to use it for predictions and inference.\n"
     ]
    },
    {
     "name": "stdout",
     "output_type": "stream",
     "text": [
      "(900, 304, 608)\n",
      "Time taken for embedding one movie:  480.3695182800293\n",
      "(900, 304, 608)\n",
      "Time taken for embedding one movie:  438.5883824825287\n",
      "(3600, 304, 608)\n",
      "Time taken for embedding one movie:  1225.8578996658325\n",
      "timm/mobilenetv3_large_100.ra_in1k\n",
      "Unrecognized model in timm/mobilenetv3_large_100.ra_in1k. Should have a `model_type` key in its config.json, or contain one of the following strings in its name: albert, align, altclip, audio-spectrogram-transformer, autoformer, bark, bart, beit, bert, bert-generation, big_bird, bigbird_pegasus, biogpt, bit, blenderbot, blenderbot-small, blip, blip-2, bloom, bridgetower, camembert, canine, chinese_clip, clap, clip, clipseg, codegen, conditional_detr, convbert, convnext, convnextv2, cpmant, ctrl, cvt, data2vec-audio, data2vec-text, data2vec-vision, deberta, deberta-v2, decision_transformer, deformable_detr, deit, deta, detr, dinat, distilbert, donut-swin, dpr, dpt, efficientformer, efficientnet, electra, encodec, encoder-decoder, ernie, ernie_m, esm, falcon, flaubert, flava, fnet, focalnet, fsmt, funnel, git, glpn, gpt-sw3, gpt2, gpt_bigcode, gpt_neo, gpt_neox, gpt_neox_japanese, gptj, gptsan-japanese, graphormer, groupvit, hubert, ibert, imagegpt, informer, instructblip, jukebox, layoutlm, layoutlmv2, layoutlmv3, led, levit, lilt, llama, longformer, longt5, luke, lxmert, m2m_100, marian, markuplm, mask2former, maskformer, maskformer-swin, mbart, mctct, mega, megatron-bert, mgp-str, mobilebert, mobilenet_v1, mobilenet_v2, mobilevit, mobilevitv2, mpnet, mra, mt5, musicgen, mvp, nat, nezha, nllb-moe, nystromformer, oneformer, open-llama, openai-gpt, opt, owlvit, pegasus, pegasus_x, perceiver, pix2struct, plbart, poolformer, prophetnet, qdqbert, rag, realm, reformer, regnet, rembert, resnet, retribert, roberta, roberta-prelayernorm, roc_bert, roformer, rwkv, sam, segformer, sew, sew-d, speech-encoder-decoder, speech_to_text, speech_to_text_2, speecht5, splinter, squeezebert, swiftformer, swin, swin2sr, swinv2, switch_transformers, t5, table-transformer, tapas, time_series_transformer, timesformer, timm_backbone, trajectory_transformer, transfo-xl, trocr, tvlt, umt5, unispeech, unispeech-sat, upernet, van, videomae, vilt, vision-encoder-decoder, vision-text-dual-encoder, visual_bert, vit, vit_hybrid, vit_mae, vit_msn, vivit, wav2vec2, wav2vec2-conformer, wavlm, whisper, xclip, xglm, xlm, xlm-prophetnet, xlm-roberta, xlm-roberta-xl, xlnet, xmod, yolos, yoso\n",
      "timm/mobilenetv3_large_100.ra_in1k FAILED!!!\n",
      "microsoft/beit-base-patch16-224-pt22k-ft22k\n"
     ]
    },
    {
     "data": {
      "application/vnd.jupyter.widget-view+json": {
       "model_id": "5b15e02019ea42a59636a8aa73fcd5f7",
       "version_major": 2,
       "version_minor": 0
      },
      "text/plain": [
       "Downloading config.json:   0%|          | 0.00/1.67M [00:00<?, ?B/s]"
      ]
     },
     "metadata": {},
     "output_type": "display_data"
    },
    {
     "data": {
      "application/vnd.jupyter.widget-view+json": {
       "model_id": "b82558712c9249b5b90d962f0db474d0",
       "version_major": 2,
       "version_minor": 0
      },
      "text/plain": [
       "Downloading pytorch_model.bin:   0%|          | 0.00/414M [00:00<?, ?B/s]"
      ]
     },
     "metadata": {},
     "output_type": "display_data"
    },
    {
     "data": {
      "application/vnd.jupyter.widget-view+json": {
       "model_id": "ffcd93fc5c2240ac83cf0976fbae44aa",
       "version_major": 2,
       "version_minor": 0
      },
      "text/plain": [
       "Downloading (…)rocessor_config.json:   0%|          | 0.00/276 [00:00<?, ?B/s]"
      ]
     },
     "metadata": {},
     "output_type": "display_data"
    },
    {
     "name": "stderr",
     "output_type": "stream",
     "text": [
      "Could not find image processor class in the image processor config or the model config. Loading based on pattern matching with the model's feature extractor configuration.\n"
     ]
    },
    {
     "name": "stdout",
     "output_type": "stream",
     "text": [
      "(900, 304, 608)\n",
      "Time taken for embedding one movie:  410.3303418159485\n",
      "(900, 304, 608)\n",
      "Time taken for embedding one movie:  356.23319602012634\n",
      "(3600, 304, 608)\n",
      "Time taken for embedding one movie:  1572.6676614284515\n",
      "timm/resnet50.a1_in1k\n"
     ]
    },
    {
     "data": {
      "application/vnd.jupyter.widget-view+json": {
       "model_id": "8404dd154ad3418a9d67abaed720a67c",
       "version_major": 2,
       "version_minor": 0
      },
      "text/plain": [
       "Downloading config.json:   0%|          | 0.00/756 [00:00<?, ?B/s]"
      ]
     },
     "metadata": {},
     "output_type": "display_data"
    },
    {
     "data": {
      "application/vnd.jupyter.widget-view+json": {
       "model_id": "d9f6b736513d41df8922e4156e6cb23e",
       "version_major": 2,
       "version_minor": 0
      },
      "text/plain": [
       "Downloading model.safetensors:   0%|          | 0.00/102M [00:00<?, ?B/s]"
      ]
     },
     "metadata": {},
     "output_type": "display_data"
    },
    {
     "name": "stdout",
     "output_type": "stream",
     "text": [
      "'NoneType' object has no attribute 'get'\n",
      "timm/resnet50.a1_in1k FAILED!!!\n",
      "timm/resnet18.a1_in1k\n"
     ]
    },
    {
     "data": {
      "application/vnd.jupyter.widget-view+json": {
       "model_id": "58ab59b04915491e9b439322037bbfb7",
       "version_major": 2,
       "version_minor": 0
      },
      "text/plain": [
       "Downloading config.json:   0%|          | 0.00/755 [00:00<?, ?B/s]"
      ]
     },
     "metadata": {},
     "output_type": "display_data"
    },
    {
     "data": {
      "application/vnd.jupyter.widget-view+json": {
       "model_id": "a1d4ae65da924067a9279b8d4b0de5a7",
       "version_major": 2,
       "version_minor": 0
      },
      "text/plain": [
       "Downloading model.safetensors:   0%|          | 0.00/46.8M [00:00<?, ?B/s]"
      ]
     },
     "metadata": {},
     "output_type": "display_data"
    },
    {
     "name": "stdout",
     "output_type": "stream",
     "text": [
      "'NoneType' object has no attribute 'get'\n",
      "timm/resnet18.a1_in1k FAILED!!!\n",
      "WinKawaks/vit-tiny-patch16-224\n"
     ]
    },
    {
     "data": {
      "application/vnd.jupyter.widget-view+json": {
       "model_id": "f952108a5b064a80955de251e6ef93f8",
       "version_major": 2,
       "version_minor": 0
      },
      "text/plain": [
       "Downloading config.json:   0%|          | 0.00/69.7k [00:00<?, ?B/s]"
      ]
     },
     "metadata": {},
     "output_type": "display_data"
    },
    {
     "data": {
      "application/vnd.jupyter.widget-view+json": {
       "model_id": "96ba8fd5d4844c93b9172c5c9656ae10",
       "version_major": 2,
       "version_minor": 0
      },
      "text/plain": [
       "Downloading model.safetensors:   0%|          | 0.00/22.9M [00:00<?, ?B/s]"
      ]
     },
     "metadata": {},
     "output_type": "display_data"
    },
    {
     "name": "stderr",
     "output_type": "stream",
     "text": [
      "Some weights of ViTModel were not initialized from the model checkpoint at WinKawaks/vit-tiny-patch16-224 and are newly initialized: ['vit.pooler.dense.bias', 'vit.pooler.dense.weight']\n",
      "You should probably TRAIN this model on a down-stream task to be able to use it for predictions and inference.\n"
     ]
    },
    {
     "data": {
      "application/vnd.jupyter.widget-view+json": {
       "model_id": "d427b40280c94665acb3ae042eda49d9",
       "version_major": 2,
       "version_minor": 0
      },
      "text/plain": [
       "Downloading (…)rocessor_config.json:   0%|          | 0.00/160 [00:00<?, ?B/s]"
      ]
     },
     "metadata": {},
     "output_type": "display_data"
    },
    {
     "name": "stdout",
     "output_type": "stream",
     "text": [
      "(900, 304, 608)\n",
      "Time taken for embedding one movie:  70.27856636047363\n",
      "(900, 304, 608)\n",
      "Time taken for embedding one movie:  63.443000078201294\n",
      "(3600, 304, 608)\n",
      "Time taken for embedding one movie:  217.85821080207825\n",
      "amunchet/rorshark-vit-base\n"
     ]
    },
    {
     "data": {
      "application/vnd.jupyter.widget-view+json": {
       "model_id": "446fc5f655db44df9f34d64cb8d6b2b1",
       "version_major": 2,
       "version_minor": 0
      },
      "text/plain": [
       "Downloading config.json:   0%|          | 0.00/767 [00:00<?, ?B/s]"
      ]
     },
     "metadata": {},
     "output_type": "display_data"
    },
    {
     "data": {
      "application/vnd.jupyter.widget-view+json": {
       "model_id": "963e82ffac7b493ea14f15b36e11b5f6",
       "version_major": 2,
       "version_minor": 0
      },
      "text/plain": [
       "Downloading model.safetensors:   0%|          | 0.00/343M [00:00<?, ?B/s]"
      ]
     },
     "metadata": {},
     "output_type": "display_data"
    },
    {
     "name": "stderr",
     "output_type": "stream",
     "text": [
      "Some weights of ViTModel were not initialized from the model checkpoint at amunchet/rorshark-vit-base and are newly initialized: ['vit.pooler.dense.bias', 'vit.pooler.dense.weight']\n",
      "You should probably TRAIN this model on a down-stream task to be able to use it for predictions and inference.\n"
     ]
    },
    {
     "data": {
      "application/vnd.jupyter.widget-view+json": {
       "model_id": "f2f7753b80514755a2a6b062e9a0ab8c",
       "version_major": 2,
       "version_minor": 0
      },
      "text/plain": [
       "Downloading (…)rocessor_config.json:   0%|          | 0.00/325 [00:00<?, ?B/s]"
      ]
     },
     "metadata": {},
     "output_type": "display_data"
    },
    {
     "name": "stdout",
     "output_type": "stream",
     "text": [
      "(900, 304, 608)\n",
      "Time taken for embedding one movie:  301.8200852870941\n",
      "(900, 304, 608)\n",
      "Time taken for embedding one movie:  300.8295819759369\n",
      "(3600, 304, 608)\n",
      "Time taken for embedding one movie:  1299.834923505783\n",
      "microsoft/resnet-50\n"
     ]
    },
    {
     "data": {
      "application/vnd.jupyter.widget-view+json": {
       "model_id": "004cd8ebe0e845ba8dadf3fb040a736d",
       "version_major": 2,
       "version_minor": 0
      },
      "text/plain": [
       "Downloading (…)rocessor_config.json:   0%|          | 0.00/266 [00:00<?, ?B/s]"
      ]
     },
     "metadata": {},
     "output_type": "display_data"
    },
    {
     "name": "stderr",
     "output_type": "stream",
     "text": [
      "Could not find image processor class in the image processor config or the model config. Loading based on pattern matching with the model's feature extractor configuration.\n"
     ]
    },
    {
     "name": "stdout",
     "output_type": "stream",
     "text": [
      "(900, 304, 608)\n",
      "Time taken for embedding one movie:  128.084459066391\n",
      "(900, 304, 608)\n",
      "Time taken for embedding one movie:  149.6694118976593\n",
      "(3600, 304, 608)\n",
      "Time taken for embedding one movie:  600.9467780590057\n",
      "microsoft/swin-base-patch4-window7-224-in22k\n"
     ]
    },
    {
     "data": {
      "application/vnd.jupyter.widget-view+json": {
       "model_id": "1227da26c01b4950865b256a4ea41174",
       "version_major": 2,
       "version_minor": 0
      },
      "text/plain": [
       "Downloading config.json:   0%|          | 0.00/1.67M [00:00<?, ?B/s]"
      ]
     },
     "metadata": {},
     "output_type": "display_data"
    },
    {
     "data": {
      "application/vnd.jupyter.widget-view+json": {
       "model_id": "c7bd1798093e47ccb5bff8c0fe01f0eb",
       "version_major": 2,
       "version_minor": 0
      },
      "text/plain": [
       "Downloading model.safetensors:   0%|          | 0.00/437M [00:00<?, ?B/s]"
      ]
     },
     "metadata": {},
     "output_type": "display_data"
    },
    {
     "data": {
      "application/vnd.jupyter.widget-view+json": {
       "model_id": "e2e5a3118a6e47e6b6d21f81596debf2",
       "version_major": 2,
       "version_minor": 0
      },
      "text/plain": [
       "Downloading (…)rocessor_config.json:   0%|          | 0.00/255 [00:00<?, ?B/s]"
      ]
     },
     "metadata": {},
     "output_type": "display_data"
    },
    {
     "name": "stderr",
     "output_type": "stream",
     "text": [
      "Could not find image processor class in the image processor config or the model config. Loading based on pattern matching with the model's feature extractor configuration.\n"
     ]
    },
    {
     "name": "stdout",
     "output_type": "stream",
     "text": [
      "(900, 304, 608)\n",
      "Time taken for embedding one movie:  523.421505689621\n",
      "(900, 304, 608)\n",
      "Time taken for embedding one movie:  578.9954402446747\n",
      "(3600, 304, 608)\n",
      "Time taken for embedding one movie:  1893.085443019867\n",
      "nateraw/vit-age-classifier\n"
     ]
    },
    {
     "data": {
      "application/vnd.jupyter.widget-view+json": {
       "model_id": "d372858477f243aca5f12523d7b7798e",
       "version_major": 2,
       "version_minor": 0
      },
      "text/plain": [
       "Downloading config.json:   0%|          | 0.00/850 [00:00<?, ?B/s]"
      ]
     },
     "metadata": {},
     "output_type": "display_data"
    },
    {
     "data": {
      "application/vnd.jupyter.widget-view+json": {
       "model_id": "adf72323537f47a8b9b7987d1ec354be",
       "version_major": 2,
       "version_minor": 0
      },
      "text/plain": [
       "Downloading pytorch_model.bin:   0%|          | 0.00/343M [00:00<?, ?B/s]"
      ]
     },
     "metadata": {},
     "output_type": "display_data"
    },
    {
     "name": "stderr",
     "output_type": "stream",
     "text": [
      "Some weights of ViTModel were not initialized from the model checkpoint at nateraw/vit-age-classifier and are newly initialized: ['vit.pooler.dense.bias', 'vit.pooler.dense.weight']\n",
      "You should probably TRAIN this model on a down-stream task to be able to use it for predictions and inference.\n"
     ]
    },
    {
     "data": {
      "application/vnd.jupyter.widget-view+json": {
       "model_id": "a5ed6813264d49729b6263145b6e8eeb",
       "version_major": 2,
       "version_minor": 0
      },
      "text/plain": [
       "Downloading (…)rocessor_config.json:   0%|          | 0.00/197 [00:00<?, ?B/s]"
      ]
     },
     "metadata": {},
     "output_type": "display_data"
    },
    {
     "name": "stdout",
     "output_type": "stream",
     "text": [
      "(900, 304, 608)\n",
      "Time taken for embedding one movie:  352.19312596321106\n",
      "(900, 304, 608)\n",
      "Time taken for embedding one movie:  373.18179392814636\n",
      "(3600, 304, 608)\n",
      "Time taken for embedding one movie:  1191.0952746868134\n"
     ]
    }
   ],
   "source": [
    "\n",
    "import sys\n",
    "sys.path.append('/home/maria/HuggingMouse/src/HuggingMouse')\n",
    "from make_embeddings import MakeEmbeddings\n",
    "from transformers import AutoModel, AutoImageProcessor\n",
    "\n",
    "for t in top_10_keys:\n",
    "    print(t)\n",
    "    try:\n",
    "        model= AutoModel.from_pretrained(t)\n",
    "        processor= AutoImageProcessor.from_pretrained(t)\n",
    "        MakeEmbeddings(processor, model).execute()\n",
    "    except Exception as e:\n",
    "        print(e)\n",
    "        print(t+' FAILED!!!')"
   ]
  },
  {
   "cell_type": "code",
   "execution_count": 4,
   "metadata": {},
   "outputs": [
    {
     "name": "stdout",
     "output_type": "stream",
     "text": [
      "/media/maria/DATA/AllenData\n"
     ]
    },
    {
     "name": "stderr",
     "output_type": "stream",
     "text": [
      "Some weights of ViTModel were not initialized from the model checkpoint at google/vit-base-patch16-224 and are newly initialized: ['vit.pooler.dense.bias', 'vit.pooler.dense.weight']\n",
      "You should probably TRAIN this model on a down-stream task to be able to use it for predictions and inference.\n"
     ]
    },
    {
     "name": "stdout",
     "output_type": "stream",
     "text": [
      "['VISal', 'VISam', 'VISl', 'VISp', 'VISpm', 'VISrl']\n",
      "These are experimental containers's that contain query imaged areas:  [{'id': 660492886, 'imaging_depth': 275, 'targeted_structure': 'VISal', 'cre_line': 'Sst-IRES-Cre', 'reporter_line': 'Ai148(TIT2L-GC6f-ICL-tTA2)', 'donor_name': '306500', 'specimen_name': 'Sst-IRES-Cre;Ai148(CAM)-306500', 'tags': [], 'failed': False}, {'id': 511854338, 'imaging_depth': 275, 'targeted_structure': 'VISal', 'cre_line': 'Cux2-CreERT2', 'reporter_line': 'Ai93(TITL-GCaMP6f)', 'donor_name': '233215', 'specimen_name': 'Cux2-CreERT2;Camk2a-tTA;Ai93-233215', 'tags': [], 'failed': False}, {'id': 555042465, 'imaging_depth': 300, 'targeted_structure': 'VISal', 'cre_line': 'Nr5a1-Cre', 'reporter_line': 'Ai93(TITL-GCaMP6f)', 'donor_name': '266396', 'specimen_name': 'Nr5a1-Cre;Camk2a-tTA;Ai93-266396', 'tags': [], 'failed': False}, {'id': 511510715, 'imaging_depth': 175, 'targeted_structure': 'VISal', 'cre_line': 'Cux2-CreERT2', 'reporter_line': 'Ai93(TITL-GCaMP6f)', 'donor_name': '222426', 'specimen_name': 'Cux2-CreERT2;Camk2a-tTA;Ai93-222426', 'tags': [], 'failed': False}, {'id': 511510723, 'imaging_depth': 275, 'targeted_structure': 'VISal', 'cre_line': 'Rorb-IRES2-Cre', 'reporter_line': 'Ai93(TITL-GCaMP6f)', 'donor_name': '222431', 'specimen_name': 'Rorb-IRES2-Cre;Camk2a-tTA;Ai93-222431', 'tags': [], 'failed': False}, {'id': 584944063, 'imaging_depth': 375, 'targeted_structure': 'VISal', 'cre_line': 'Rbp4-Cre_KL100', 'reporter_line': 'Ai93(TITL-GCaMP6f)', 'donor_name': '301124', 'specimen_name': 'Rbp4-Cre_KL100;Camk2a-tTA;Ai93-301124', 'tags': [], 'failed': False}, {'id': 511510867, 'imaging_depth': 275, 'targeted_structure': 'VISal', 'cre_line': 'Cux2-CreERT2', 'reporter_line': 'Ai93(TITL-GCaMP6f)', 'donor_name': '228379', 'specimen_name': 'Cux2-CreERT2;Camk2a-tTA;Ai93-228379', 'tags': [], 'failed': False}, {'id': 511510998, 'imaging_depth': 175, 'targeted_structure': 'VISal', 'cre_line': 'Cux2-CreERT2', 'reporter_line': 'Ai93(TITL-GCaMP6f)', 'donor_name': '229105', 'specimen_name': 'Cux2-CreERT2;Camk2a-tTA;Ai93-229105', 'tags': ['Epileptiform Events'], 'failed': False}, {'id': 685816004, 'imaging_depth': 350, 'targeted_structure': 'VISal', 'cre_line': 'Nr5a1-Cre', 'reporter_line': 'Ai93(TITL-GCaMP6f)', 'donor_name': '378302', 'specimen_name': 'Nr5a1-Cre;Camk2a-tTA;Ai93-378302', 'tags': [], 'failed': False}, {'id': 560753319, 'imaging_depth': 175, 'targeted_structure': 'VISal', 'cre_line': 'Emx1-IRES-Cre', 'reporter_line': 'Ai93(TITL-GCaMP6f)', 'donor_name': '280639', 'specimen_name': 'Emx1-IRES-Cre;Camk2a-tTA;Ai93-280639', 'tags': [], 'failed': False}, {'id': 511510797, 'imaging_depth': 175, 'targeted_structure': 'VISal', 'cre_line': 'Cux2-CreERT2', 'reporter_line': 'Ai93(TITL-GCaMP6f)', 'donor_name': '225036', 'specimen_name': 'Cux2-CreERT2;Camk2a-tTA;Ai93-225036', 'tags': [], 'failed': False}, {'id': 572376866, 'imaging_depth': 375, 'targeted_structure': 'VISal', 'cre_line': 'Rbp4-Cre_KL100', 'reporter_line': 'Ai93(TITL-GCaMP6f)', 'donor_name': '291865', 'specimen_name': 'Rbp4-Cre_KL100;Camk2a-tTA;Ai93-291865', 'tags': [], 'failed': False}, {'id': 569396922, 'imaging_depth': 275, 'targeted_structure': 'VISal', 'cre_line': 'Rorb-IRES2-Cre', 'reporter_line': 'Ai93(TITL-GCaMP6f)', 'donor_name': '284418', 'specimen_name': 'Rorb-IRES2-Cre;Camk2a-tTA;Ai93-284418', 'tags': [], 'failed': False}, {'id': 561472631, 'imaging_depth': 275, 'targeted_structure': 'VISal', 'cre_line': 'Emx1-IRES-Cre', 'reporter_line': 'Ai93(TITL-GCaMP6f)', 'donor_name': '280639', 'specimen_name': 'Emx1-IRES-Cre;Camk2a-tTA;Ai93-280639', 'tags': [], 'failed': False}, {'id': 511510710, 'imaging_depth': 375, 'targeted_structure': 'VISal', 'cre_line': 'Rbp4-Cre_KL100', 'reporter_line': 'Ai93(TITL-GCaMP6f)', 'donor_name': '226219', 'specimen_name': 'Rbp4-Cre;Camk2a-tTA;Ai93-226219', 'tags': [], 'failed': False}, {'id': 511510695, 'imaging_depth': 175, 'targeted_structure': 'VISal', 'cre_line': 'Cux2-CreERT2', 'reporter_line': 'Ai93(TITL-GCaMP6f)', 'donor_name': '222425', 'specimen_name': 'Cux2-CreERT2;Camk2a-tTA;Ai93-222425', 'tags': [], 'failed': False}, {'id': 562536151, 'imaging_depth': 375, 'targeted_structure': 'VISal', 'cre_line': 'Emx1-IRES-Cre', 'reporter_line': 'Ai93(TITL-GCaMP6f)', 'donor_name': '280639', 'specimen_name': 'Emx1-IRES-Cre;Camk2a-tTA;Ai93-280639', 'tags': [], 'failed': False}, {'id': 511511052, 'imaging_depth': 275, 'targeted_structure': 'VISal', 'cre_line': 'Cux2-CreERT2', 'reporter_line': 'Ai93(TITL-GCaMP6f)', 'donor_name': '228378', 'specimen_name': 'Cux2-CreERT2;Camk2a-tTA;Ai93-228378', 'tags': [], 'failed': False}, {'id': 511510860, 'imaging_depth': 275, 'targeted_structure': 'VISal', 'cre_line': 'Rorb-IRES2-Cre', 'reporter_line': 'Ai93(TITL-GCaMP6f)', 'donor_name': '228786', 'specimen_name': 'Rorb-IRES2-Cre;Camk2a-tTA;Ai93-228786', 'tags': [], 'failed': False}, {'id': 555700037, 'imaging_depth': 175, 'targeted_structure': 'VISal', 'cre_line': 'Cux2-CreERT2', 'reporter_line': 'Ai93(TITL-GCaMP6f)', 'donor_name': '273576', 'specimen_name': 'Cux2-CreERT2;Camk2a-tTA;Ai93-273576', 'tags': [], 'failed': False}, {'id': 556936291, 'imaging_depth': 275, 'targeted_structure': 'VISal', 'cre_line': 'Cux2-CreERT2', 'reporter_line': 'Ai93(TITL-GCaMP6f)', 'donor_name': '273576', 'specimen_name': 'Cux2-CreERT2;Camk2a-tTA;Ai93-273576', 'tags': [], 'failed': False}, {'id': 637113170, 'imaging_depth': 350, 'targeted_structure': 'VISal', 'cre_line': 'Nr5a1-Cre', 'reporter_line': 'Ai93(TITL-GCaMP6f)', 'donor_name': '337438', 'specimen_name': 'Nr5a1-Cre;Camk2a-tTA;Ai93-337438', 'tags': [], 'failed': False}, {'id': 511856567, 'imaging_depth': 275, 'targeted_structure': 'VISal', 'cre_line': 'Cux2-CreERT2', 'reporter_line': 'Ai93(TITL-GCaMP6f)', 'donor_name': '231585', 'specimen_name': 'Cux2-CreERT2;Camk2a-tTA;Ai93-231585', 'tags': [], 'failed': False}, {'id': 639253041, 'imaging_depth': 275, 'targeted_structure': 'VISal', 'cre_line': 'Slc17a7-IRES2-Cre', 'reporter_line': 'Ai93(TITL-GCaMP6f)', 'donor_name': '340467', 'specimen_name': 'Slc17a7-IRES2-Cre;Camk2a-tTA;Ai93-340467', 'tags': [], 'failed': False}, {'id': 572607996, 'imaging_depth': 375, 'targeted_structure': 'VISal', 'cre_line': 'Rbp4-Cre_KL100', 'reporter_line': 'Ai93(TITL-GCaMP6f)', 'donor_name': '291465', 'specimen_name': 'Rbp4-Cre_KL100;Camk2a-tTA;Ai93-291465', 'tags': [], 'failed': False}, {'id': 546328009, 'imaging_depth': 350, 'targeted_structure': 'VISal', 'cre_line': 'Nr5a1-Cre', 'reporter_line': 'Ai93(TITL-GCaMP6f)', 'donor_name': '261969', 'specimen_name': 'Nr5a1-Cre;Camk2a-tTA;Ai93-261969', 'tags': [], 'failed': False}, {'id': 698102441, 'imaging_depth': 276, 'targeted_structure': 'VISal', 'cre_line': 'Cux2-CreERT2', 'reporter_line': 'Ai93(TITL-GCaMP6f)', 'donor_name': '339323', 'specimen_name': 'Cux2-CreERT2;Camk2a-tTA;Ai93-339323', 'tags': [], 'failed': False}, {'id': 511499656, 'imaging_depth': 375, 'targeted_structure': 'VISal', 'cre_line': 'Rbp4-Cre_KL100', 'reporter_line': 'Ai93(TITL-GCaMP6f)', 'donor_name': '233442', 'specimen_name': 'Rbp4-Cre;Camk2a-tTA;Ai93-233442', 'tags': [], 'failed': False}, {'id': 564791547, 'imaging_depth': 265, 'targeted_structure': 'VISal', 'cre_line': 'Emx1-IRES-Cre', 'reporter_line': 'Ai93(TITL-GCaMP6f)', 'donor_name': '280643', 'specimen_name': 'Emx1-IRES-Cre;Camk2a-tTA;Ai93-280643', 'tags': [], 'failed': False}, {'id': 638056632, 'imaging_depth': 275, 'targeted_structure': 'VISal', 'cre_line': 'Cux2-CreERT2', 'reporter_line': 'Ai93(TITL-GCaMP6f)', 'donor_name': '339323', 'specimen_name': 'Cux2-CreERT2;Camk2a-tTA;Ai93-339323', 'tags': [], 'failed': False}, {'id': 604576635, 'imaging_depth': 175, 'targeted_structure': 'VISal', 'cre_line': 'Slc17a7-IRES2-Cre', 'reporter_line': 'Ai93(TITL-GCaMP6f)', 'donor_name': '324178', 'specimen_name': 'Slc17a7-IRES2-Cre;Camk2a-tTA;Ai93-324178', 'tags': [], 'failed': False}, {'id': 560876149, 'imaging_depth': 175, 'targeted_structure': 'VISal', 'cre_line': 'Emx1-IRES-Cre', 'reporter_line': 'Ai93(TITL-GCaMP6f)', 'donor_name': '280643', 'specimen_name': 'Emx1-IRES-Cre;Camk2a-tTA;Ai93-280643', 'tags': [], 'failed': False}, {'id': 511510664, 'imaging_depth': 175, 'targeted_structure': 'VISal', 'cre_line': 'Cux2-CreERT2', 'reporter_line': 'Ai93(TITL-GCaMP6f)', 'donor_name': '222420', 'specimen_name': 'Cux2-CreERT2;Camk2a-tTA;Ai93-222420', 'tags': [], 'failed': False}, {'id': 556639822, 'imaging_depth': 350, 'targeted_structure': 'VISal', 'cre_line': 'Nr5a1-Cre', 'reporter_line': 'Ai93(TITL-GCaMP6f)', 'donor_name': '271729', 'specimen_name': 'Nr5a1-Cre;Camk2a-tTA;Ai93-271729', 'tags': [], 'failed': False}, {'id': 511510794, 'imaging_depth': 275, 'targeted_structure': 'VISal', 'cre_line': 'Rorb-IRES2-Cre', 'reporter_line': 'Ai93(TITL-GCaMP6f)', 'donor_name': '231120', 'specimen_name': 'Rorb-IRES2-Cre;Camk2a-tTA;Ai93-231120', 'tags': [], 'failed': False}, {'id': 593506466, 'imaging_depth': 350, 'targeted_structure': 'VISal', 'cre_line': 'Nr5a1-Cre', 'reporter_line': 'Ai93(TITL-GCaMP6f)', 'donor_name': '309689', 'specimen_name': 'Nr5a1-Cre;Camk2a-tTA;Ai93(CAM)-309689', 'tags': [], 'failed': False}, {'id': 564791561, 'imaging_depth': 365, 'targeted_structure': 'VISal', 'cre_line': 'Emx1-IRES-Cre', 'reporter_line': 'Ai93(TITL-GCaMP6f)', 'donor_name': '280643', 'specimen_name': 'Emx1-IRES-Cre;Camk2a-tTA;Ai93-280643', 'tags': [], 'failed': False}, {'id': 511500480, 'imaging_depth': 275, 'targeted_structure': 'VISal', 'cre_line': 'Rorb-IRES2-Cre', 'reporter_line': 'Ai93(TITL-GCaMP6f)', 'donor_name': '232623', 'specimen_name': 'Rorb-IRES2-Cre;Camk2a-tTA;Ai93-232623', 'tags': [], 'failed': False}, {'id': 584475415, 'imaging_depth': 375, 'targeted_structure': 'VISal', 'cre_line': 'Rbp4-Cre_KL100', 'reporter_line': 'Ai93(TITL-GCaMP6f)', 'donor_name': '300664', 'specimen_name': 'Rbp4-Cre_KL100;Camk2a-tTA;Ai93-300664', 'tags': [], 'failed': False}, {'id': 591460068, 'imaging_depth': 275, 'targeted_structure': 'VISal', 'cre_line': 'Rorb-IRES2-Cre', 'reporter_line': 'Ai93(TITL-GCaMP6f)', 'donor_name': '305467', 'specimen_name': 'Rorb-IRES2-Cre;Camk2a-tTA;Ai93-305467', 'tags': [], 'failed': False}, {'id': 563364151, 'imaging_depth': 375, 'targeted_structure': 'VISal', 'cre_line': 'Emx1-IRES-Cre', 'reporter_line': 'Ai93(TITL-GCaMP6f)', 'donor_name': '283147', 'specimen_name': 'Emx1-IRES-Cre;Camk2a-tTA;Ai93-283147', 'tags': [], 'failed': False}]\n",
      "These are experimental container id's corresponding to imaged areas [660492886, 511854338, 555042465, 511510715, 511510723, 584944063, 511510867, 511510998, 685816004, 560753319, 511510797, 572376866, 569396922, 561472631, 511510710, 511510695, 562536151, 511511052, 511510860, 555700037, 556936291, 637113170, 511856567, 639253041, 572607996, 546328009, 698102441, 511499656, 564791547, 638056632, 604576635, 560876149, 511510664, 556639822, 511510794, 593506466, 564791561, 511500480, 584475415, 591460068, 563364151]\n",
      "dict_keys(['natural_movie_one', 'natural_movie_two', 'natural_movie_three'])\n",
      "{'r2_score': [0.3887557150102767, 0.13204360669469328, 0.08009644012191297, 0.5524173671775293, 0.8932501868456257, 0.2884957719346166, 0.6543057442512905, -0.28422170091053345, 0.6227339633891172, 0.17126034417753344, 0.31426568229724894, -0.30656265773532954, 0.15396895195524474, 0.08672039240765028, 0.07808283851316755, -0.179027507388289, -0.18654113743432021, 0.5054000711648373, -0.2185121665390044, 0.2771743826859969, 0.5302353129073349, 0.1384951791889616], 'mean_squared_error': [0.022207139863648008, 0.014842297923715142, 0.009482482429791207, 0.006862187711324114, 0.04915277717059461, 0.017516995656384458, 0.029437651118505905, 0.007987993402662132, 0.026516490846075644, 0.0046345369124029265, 0.004831748392899446, 0.008880205631387748, 0.011390445934374369, 0.016305453629981485, 0.00569053288156793, 0.011051737262694135, 0.007950486976091435, 0.011380222745991146, 0.009354363812730814, 0.010086682184894391, 0.007413233903023065, 0.006176320762537136], 'explained_variance_score': [0.3907248589848057, 0.13345208616666981, 0.08077004753226602, 0.5554727692259493, 0.8941720278594967, 0.2886461441602264, 0.6547151771770789, -0.28417956982203507, 0.6227414525274264, 0.17289742998252267, 0.314432587109433, -0.3063934543459619, 0.15785926196201483, 0.0872813699601761, 0.07809849430589977, -0.12077370145885413, -0.18445766337735559, 0.5104602392471216, -0.21353901535818887, 0.2797581818941578, 0.533350008592424, 0.14303276033211754]}\n",
      "{'r2_score': [0.2971719921436017, 0.2965258642412344, 0.6891878995946132, 0.6862930969936248, 0.8690801963929506, 0.48562724624737075, 0.6582556936001804, 0.6939839962953713, 0.668219597638853, 0.35302474775706427, 0.43932925699768843, 0.16423257620667442, 0.28421312958318756, 0.19873312105062846, 0.6448103778381502, 0.3293443382381529, -0.032495107472224616, 0.5847087845314412, -0.2636287577985601, 0.49226432462614456, 0.3795539784770563, 0.4255783360081493], 'mean_squared_error': [0.03236230039624112, 0.019289148800696404, 0.0382458871915063, 0.011604256937207279, 0.17394661793064087, 0.03297990683833762, 0.1635037480100134, 0.01674547409480124, 0.0527467498210838, 0.008203392187469004, 0.006235600810157242, 0.011140205647491196, 0.022676300765518322, 0.019992912578899198, 0.01567676569236494, 0.01957770029177383, 0.01061825804150462, 0.01261646187517027, 0.009683715633174035, 0.011496821483381721, 0.008776702832991689, 0.007286319593730934], 'explained_variance_score': [0.29798368549996024, 0.3059313382735106, 0.6943879454747566, 0.6863352950626165, 0.8705229704471833, 0.48567762241230517, 0.6610591594252883, 0.6939903779070276, 0.66981248128168, 0.3681940336249462, 0.4433743990509369, 0.16699026749647394, 0.285157424969106, 0.21132647689351758, 0.6487953156913914, 0.32970917804144395, -0.030591881657578535, 0.5878444515149737, -0.26328977563091827, 0.49323974875231047, 0.3809079097606439, 0.42676582358128234]}\n",
      "{'r2_score': [0.517116732137775, 0.2347165244037036, 0.4168281134677113, 0.7828910455277092, 0.8822119759644679, 0.45674423040235834, 0.7129007469131914, 0.38002171262815865, 0.6944082082934631, 0.32442689571390515, 0.5550932697486526, -0.045056276306899345, 0.20270632595614657, 0.4107362569658807, 0.15161204424243768, 0.2446859527616274, -0.008075771416610422, 0.42425673914392137, -0.10982856359325499, 0.556334326562472, 0.2774334699779778, 0.1652968037324788], 'mean_squared_error': [0.019627214400906895, 0.04830360339411713, 0.010748531556802941, 0.017830504915393737, 0.08546895886915212, 0.023634170250070252, 0.14525375952962846, 0.009845011678886814, 0.0312810033962247, 0.010035750388281367, 0.015472291785701297, 0.011200900458084329, 0.018592037185308025, 0.020994646172917998, 0.008567537201249928, 0.011856796200630461, 0.01184823465900374, 0.023583519770412474, 0.008082572447241114, 0.013052078054133913, 0.006929876437963041, 0.007229462737885634], 'explained_variance_score': [0.5171900648942421, 0.2389400440592595, 0.4373109525588147, 0.7849612766236491, 0.8826102610505709, 0.4645659483318676, 0.713342922257358, 0.38002867667909024, 0.6982328365415844, 0.33196200858167935, 0.5581515095292889, -0.04212144345186708, 0.2060968927050778, 0.4189374913988385, 0.1586053776671309, 0.2446886579909897, -0.0066219935534466146, 0.42869170868647344, -0.10938475968640393, 0.5596236180818119, 0.27746994191801955, 0.2068874137059601]}\n",
      "{'r2_score': [0.5473157288616578, -0.007947169593857328, 0.07920141938161274, 0.6206348203773366, 0.7578081604396615, 0.4824929865185569, 0.7153711867761332, -0.25721722520590884, 0.5914267148681732, -0.00939951877514722, 0.47168278499171357, -0.18084350388827697, -0.2656445800176601, 0.4180479487929941, -0.16276529196874723, 0.3899183620124831, -0.09224301612454378, 0.6499443328948509, -0.023790939121218768, 0.3741833682190072, 0.212988767319082, 0.27899209423958204], 'mean_squared_error': [0.03272839184105063, 0.010546981404664068, 0.008497071432790071, 0.00983772479953096, 0.08321234234852491, 0.02917784732981868, 0.09349573974458619, 0.007948133255010943, 0.026297172002480024, 0.003459729287941738, 0.021400821003549335, 0.008960305392017531, 0.010238701113205594, 0.02662299485342444, 0.004522855516881273, 0.0160324321261452, 0.010039168814309248, 0.014033067341097978, 0.01038885433884041, 0.011666361805556772, 0.006497973555304756, 0.008061128530480154], 'explained_variance_score': [0.5482608264462709, -0.007912847250488131, 0.08424149245623114, 0.6206876157038336, 0.7581911806153387, 0.4854430405550869, 0.7153792165342225, -0.2570016168182201, 0.593730232225223, -0.005086466180421745, 0.4718343717015876, -0.16636965186831598, -0.2573101255451631, 0.4182678161762202, -0.1627322482790574, 0.38994641662146845, -0.0910988251113416, 0.6500082547965373, -0.012837486889123007, 0.3742133198841523, 0.21763107403863824, 0.2790242145637952]}\n",
      "{'r2_score': [0.3390176170621483, 0.08795219918004293, 0.1026676951354677, 0.731235627033714, 0.8010674944935445, 0.4267160055866114, 0.792463497979179, -0.23778337358334345, 0.6093053922498934, -0.02750615994810013, 0.6074410625061681, -0.26960079227127887, -0.3392274653402738, 0.44341193397850076, -0.18638843556710127, 0.19554616909636902, -0.16187999362229966, -0.14659665401027855, 0.17408740558930935, 0.39034658788996424, 0.36115928359638294, 0.2531255808224695], 'mean_squared_error': [0.02023189633481392, 0.016316879046906485, 0.008968628523582977, 0.010084339742241554, 0.07245221480641675, 0.020631842053384877, 0.13358543960475372, 0.008726117738802225, 0.018239016191566593, 0.0029262731386651866, 0.015438602881727064, 0.010300482827757505, 0.009263411841366417, 0.02275167263422493, 0.004104899121457532, 0.013256466891216089, 0.00812626335818404, 0.006753119311745883, 0.011680124767306102, 0.011106508062723602, 0.006423203901237271, 0.008752076500213424], 'explained_variance_score': [0.3397707116592378, 0.08948413133613442, 0.10279563866900632, 0.7312356594897889, 0.8015835671089406, 0.42857522963864614, 0.7925871596057522, -0.23493992676802633, 0.6100712766025153, -0.017367248378059807, 0.6077620371177277, -0.2655105537578053, -0.3147517641613993, 0.4434422951720519, -0.18501620428440457, 0.19641104854924685, -0.16117230658973836, -0.13166415324082537, 0.17471029687098438, 0.3907762099358236, 0.3649472457319455, 0.2611369803443919]}\n",
      "{'r2_score': [0.2134835780151746, -0.2319547595285807, 0.05256476928024212, 0.7789368160861306, 0.8476792875294865, 0.4146292230353913, 0.7690053472407693, 0.08603840806000196, 0.6292159892101209, -0.19281948136196125, 0.35528943484489384, -0.3248940431224323, -0.28752565740486613, 0.4661366433620472, -0.16116455380198458, 0.21865977490751842, 0.05722173741775738, 0.7562571503106782, -0.19559607952088665, 0.5179680006665826, 0.03387977933916497, 0.07809213874554899], 'mean_squared_error': [0.019596617116167822, 0.008775158471744315, 0.00811177631764395, 0.021524648948528863, 0.050070193393575685, 0.01663857858650778, 0.07472387848035965, 0.009466996313146321, 0.018887206116243335, 0.0032334524976079435, 0.007448032123900782, 0.010723535449723879, 0.009613704595413814, 0.02071036340552924, 0.005242696153471379, 0.010928822915490372, 0.008772086465759811, 0.013211525784293684, 0.008991981158279986, 0.013323941521112872, 0.005780820506977136, 0.007190984348284968], 'explained_variance_score': [0.21489959797158908, -0.23194741027568888, 0.05339488321004826, 0.7795413976861263, 0.8478444271442598, 0.41667519365806815, 0.7699408677952764, 0.08606736753904431, 0.633719058860571, -0.18918232687532455, 0.3588249561025195, -0.32102878628766707, -0.2828902123328414, 0.46678581624684656, -0.16115481491406092, 0.22626422087739873, 0.05771114361546581, 0.7565851443838061, -0.17442469161471608, 0.5224645495646327, 0.034770459213111504, 0.08669365003402585]}\n",
      "{'r2_score': [0.273481959498562, -0.12163331879472605, 0.2685691784339791, 0.7963473663640808, 0.8556492229782909, 0.4622987266005758, 0.75383764985011, 0.36853852394623254, 0.6299635853934938, 0.08398798125482343, 0.2944238564497297, -0.09689379559439892, -0.007123524519020208, 0.34389551770611604, -0.06594966728437268, 0.2946057410990526, -0.07745443922699824, 0.3076147217747027, -0.20415580126765365, 0.17282406133445993, 0.3290316277658951, 0.11854128785259477], 'mean_squared_error': [0.023799611779688645, 0.011657860685664281, 0.009311484275419538, 0.020662267128690376, 0.07712916726383784, 0.0237310331116214, 0.07995746016217312, 0.011091790829270592, 0.030649732174802467, 0.0035277058835529386, 0.0053275465412423164, 0.010080131228448069, 0.009902750417485931, 0.020109467403465902, 0.005368672756333577, 0.012906690816474083, 0.009162888944250437, 0.007310015812193823, 0.008446884134625849, 0.011358874398472905, 0.00785768803640688, 0.005807492402787897], 'explained_variance_score': [0.2776974868646771, -0.11875697345767855, 0.2748167495727666, 0.7965073553866092, 0.8557684989486252, 0.46246135759814333, 0.7538377255041186, 0.36926880020970476, 0.6326526580431553, 0.08687714366810839, 0.2958115461146026, -0.0928271550817723, 0.01928724726746056, 0.35273834951755745, -0.06594212787522347, 0.2949688144634868, -0.07696533393526206, 0.3125352198466923, -0.19180519682579877, 0.202450964305379, 0.33190575955202983, 0.12090561907257502]}\n",
      "{'r2_score': [0.1640320793929747, 0.0305379434272397, 0.26750250702637757, 0.7271867930722153, 0.7479944976838973, 0.3220899812459318, 0.7022501192598198, -0.19112429040679713, 0.562773418044404, 0.3280929055199141, 0.8338330498041633, -0.2577377233388458, 0.6801109061229511, 0.27473080897725843, 0.14174051209776728, -0.030170169909434996, -0.1735051583741214, 0.32241895741743554, -0.02433733869000121, 0.2860763607075124, 0.7321430170095469, 0.3632486970485058], 'mean_squared_error': [0.02188746131059552, 0.013117851304905758, 0.008281553362538495, 0.02039359006410138, 0.06938627735412385, 0.024475779041917348, 0.12134655138104286, 0.009944040825091573, 0.031570548951371236, 0.007441545906793457, 0.015219232302152075, 0.010917808427587841, 0.045586713662145985, 0.020573391553666696, 0.007603365101719708, 0.011299951329599664, 0.011129699046627809, 0.009390999350261664, 0.010122351582981486, 0.011728781643038498, 0.00996050746524116, 0.006259002297046734], 'explained_variance_score': [0.16403311691849853, 0.03474036946695436, 0.26938301796250175, 0.7290819693268074, 0.750540777878495, 0.32229504405047626, 0.7027335026810427, -0.18450019640919457, 0.5633255415721968, 0.3307389282622619, 0.8352269866444789, -0.23386960398283008, 0.6817389901632902, 0.2754941434155459, 0.14174535183175463, -0.03016854884237885, -0.16999779107552304, 0.32262808789745445, -0.008421064355936148, 0.31368744110958746, 0.735217568709057, 0.3634717894833055]}\n",
      "{'r2_score': [0.43236491623947004, 0.6157610952462972, 0.0016868786027185445, 0.28683728660643104, 0.7471105417842587, 0.37721871727815826, 0.5271696549668419, 0.13567088235491487, 0.5698501137829288, 0.23537093908518059, 0.3693932283416602, -0.28127487831502673, 0.35899281658498927, 0.2626765017785887, 0.28247493404034063, 0.15317983722631623, -0.3694402081295107, 0.2841855065044476, -0.14568727296663453, -0.019154944812478147, 0.29775643467768564, 0.03528087923734524], 'mean_squared_error': [0.025060714010241833, 0.09473399005395586, 0.007221664410636781, 0.008864434217103407, 0.07314728436756308, 0.017483040976322587, 0.017888977130550147, 0.0107530912379783, 0.01853829268628332, 0.011268226325959077, 0.007316264232781538, 0.009179698587866854, 0.05700077040582776, 0.021327716984765488, 0.012607893999188378, 0.011736879735573176, 0.012287743086389726, 0.011049939801988626, 0.008016397176354925, 0.008739401447913265, 0.007546602070518842, 0.006582580931607659], 'explained_variance_score': [0.43494404666531983, 0.6157696992399425, 0.007506863253108009, 0.2948410960908501, 0.7490539496942685, 0.3790173346081872, 0.5336934959641368, 0.13861813650697608, 0.5770664498457068, 0.2519750669908909, 0.3711297138114329, -0.26411368099165866, 0.35908414184478044, 0.26951708714797695, 0.2825151435422971, 0.15460085312039495, -0.3665803454573531, 0.28610735965439194, -0.11018261293859832, -0.01512185087889506, 0.29853770848855665, 0.05039247583341555]}\n",
      "{'r2_score': [0.48243331132951484, -0.31536726804223303, 0.009368543291914944, 0.7351972632144239, 0.8243183578287372, 0.47105472755517686, 0.7763130233507458, -0.12303031203926662, 0.6113401036051589, -0.031129026417464623, 0.5227471552213732, -0.0943983482328341, 0.0014555357291786697, 0.20248832134199612, -0.0843421959347801, 0.15827433063753427, -0.27501891431409753, 0.3805816041497816, -0.046115545209724385, 0.3333479981612921, 0.19878350734621109, 0.3715645769340651], 'mean_squared_error': [0.024741405447868684, 0.008484119496422166, 0.007299436841637706, 0.012060801528689493, 0.07421227266765337, 0.019078844574611446, 0.04594938068375561, 0.008599866812004217, 0.021562990907253637, 0.002953684928862157, 0.00718058279473194, 0.010960420467020657, 0.008370969286234169, 0.02061584979993107, 0.004693298786713137, 0.01325137121213436, 0.007468957876830084, 0.00637397495885045, 0.008514821030814594, 0.010266732638755906, 0.00648135823038361, 0.007484187214682739], 'explained_variance_score': [0.48869785936306054, -0.31270016208503804, 0.009793469831004153, 0.7361502364384522, 0.8251313693938684, 0.4753261700668534, 0.7768019755288758, -0.12240845716938109, 0.6119474728765626, -0.027815924669509773, 0.5250200312094786, -0.07420440546143925, 0.005234207947252045, 0.20352993906050454, -0.07970510280385179, 0.17069841286383236, -0.26699067120765463, 0.3864365504014231, -0.04604363909346021, 0.3333561540223383, 0.19898524223517433, 0.3721765796630263]}\n",
      "{'r2_score': [0.010201629414921864, -0.026418530742406077, -0.19182175849558702, 0.5802549592866312, 0.30751216734431863, 0.2490283841527562, 0.0401869203382933, -0.09083173765879371, 0.35168602423189876, 0.0358802134866405, -0.12318851753690718, -0.17755326940712712, 0.4855127365996409, -0.15391953780144574, -0.0762229292943668, -0.20208859150538694, -0.2332738106845953, 0.028467557629427986, -0.24029807084455412, -0.20513381650415363, -0.18776799604388428, -0.21263096818889227], 'mean_squared_error': [0.017980967453129635, 0.016547333126750167, 0.008254971421380241, 0.012336789894940706, 0.016799517623339977, 0.019719707441383544, 0.019900353054996642, 0.00961821730061103, 0.022466473267536848, 0.011472190366449279, 0.005716181990654023, 0.009696366235768167, 0.04408998591206101, 0.015473963731380911, 0.007502216689528434, 0.011403064666577879, 0.009649821741702942, 0.010263834399816337, 0.007972931097865473, 0.008069877483578444, 0.004653643064350856, 0.004865508094736335], 'explained_variance_score': [0.012858583171691085, -0.02509410786653521, -0.191782779224682, 0.5805278085243706, 0.30752005861051346, 0.24903277104628596, 0.04020271255902963, -0.08953044125021448, 0.351736095964464, 0.03604080838601453, -0.12289974064577014, -0.17755001455763364, 0.4855213179466292, -0.1508728826450727, -0.0760376929888591, -0.19753383187457563, -0.23305815446267175, 0.028634385777270954, -0.2373041657617172, -0.20280571050822394, -0.18764727282450222, -0.21214155480895758]}\n",
      "{'r2_score': [0.07483805055982207, 0.219104588302375, -0.09318099518125078, 0.6153666021374398, 0.6384452954680364, 0.2767147798376922, 0.023223363889502413, -0.2003035199686105, 0.3743288396801071, 0.0604967221160434, -0.06506940189688049, -0.22422728912943057, 0.2140407171773161, -0.05516495896081075, -0.0532686134813114, -0.17337129510902582, -0.2960598145331377, 0.15500243510284195, -0.23360453921891344, -0.18539522510037587, -0.1542812943538736, -0.18761206847740075], 'mean_squared_error': [0.017351488962458056, 0.028919333214378614, 0.0075772933750721605, 0.01353950798262849, 0.018551935200046988, 0.01487316285950163, 0.0170735178731222, 0.008853771979383949, 0.017426898543248172, 0.009061951101386693, 0.00535411308162834, 0.009640988554397293, 0.026885595415104116, 0.01471606412155226, 0.0060121233355073505, 0.011016927613572836, 0.009903902114658107, 0.008736590772313955, 0.007668896259550439, 0.00752259177583435, 0.004692438819991429, 0.005006797379176234], 'explained_variance_score': [0.07505513255310625, 0.2192527632231559, -0.09221142595544807, 0.6153682848040081, 0.6391111828648826, 0.2778336040538446, 0.024082559535387293, -0.19506613298566733, 0.3745560625579287, 0.060496894379444166, -0.06490324531077452, -0.22420157445093225, 0.21466290322059145, -0.054623752004385295, -0.05047240038873779, -0.1726161287146648, -0.29392553961404544, 0.1564875403743795, -0.2319831564516155, -0.18532174645485555, -0.1517095206964516, -0.18758310088197883]}\n",
      "{'r2_score': [-0.16264034286443918, 0.06962951165058062, -0.1727342556708562, 0.7062283405433896, 0.47351237425337045, -0.04782551361041798, -0.09074396411171959, 0.3151145294168709, 0.026908827385042966, -0.06330447376988446, -0.051431170474715016, -0.16987520193761285, 0.06337820998767263, -0.12649196340076507, -0.08364599380258175, -0.2733277530482303, -0.19711502787801405, 0.18461178719573834, -0.2223421633010254, -0.21602412172296637, -0.22052958912676202, -0.2776843498800281], 'mean_squared_error': [0.014354473611171844, 0.04248228869537529, 0.007642625983193808, 0.015744001796356856, 0.01158039523798122, 0.012218868271648054, 0.01219686881786168, 0.012394058393414776, 0.010033033051238533, 0.006608952878072509, 0.004791093583305539, 0.00970383065677359, 0.020510410582378374, 0.015239943388790566, 0.005801039430858773, 0.010468812808546241, 0.008329141613974163, 0.009645652275512659, 0.007484415970881871, 0.0076616861888664225, 0.004499890780214164, 0.005022024302588783], 'explained_variance_score': [-0.1590909149799371, 0.07750726281866804, -0.17264591166313425, 0.7066274348752779, 0.4740390972417903, -0.04776374482972745, -0.08920662627012232, 0.31627237300873634, 0.027041303031942077, -0.062226422021566474, -0.0499751792116776, -0.16986399320532986, 0.0664044527361346, -0.12391613224537301, -0.0827365341822357, -0.2733276884690097, -0.1967396782156956, 0.18681252421500705, -0.21692985006460686, -0.21602151720464557, -0.21947998877439745, -0.2765918830233567]}\n",
      "{'r2_score': [-0.0605325597202111, 0.507461095601843, -0.22024060171122417, 0.7212467206102642, 0.42767170980555624, -0.14602686475148485, -0.09471278190489585, -0.09334647954344488, -0.15464693302759258, -0.00990813453687811, -0.19247146814576976, -0.2584058134554721, -0.01468930700944493, -0.10176508718717203, -0.1084556305945501, -0.2502911307834148, -0.25226499293956306, -0.09554140219504048, -0.23130028884846676, -0.26544658849751834, -0.2381035572801955, -0.32586519301667627], 'mean_squared_error': [0.0158167983913443, 0.029845399093587677, 0.007226990698944064, 0.012238745276235245, 0.011791407765382338, 0.010486553916965385, 0.011992963573355457, 0.009404595673300898, 0.008463167187682922, 0.006265895436998103, 0.004636861357169488, 0.008285942900120866, 0.013907626142872614, 0.0158044660315399, 0.0054496682789004, 0.00974887966261911, 0.008566781392617982, 0.0060352776427841735, 0.008018250928975833, 0.007691413656824528, 0.004584113831152471, 0.005143806628431215], 'explained_variance_score': [-0.060434015048784095, 0.5079779492917107, -0.21809579662782408, 0.7213938424944719, 0.4292062743705637, -0.14208526590754378, -0.0946268660541989, -0.09331975998148478, -0.152215235337414, -0.009345652932281512, -0.19207480819571088, -0.2571419507002357, -0.014655626788890208, -0.10140460026436382, -0.10789151463327928, -0.25026358433108076, -0.2521801774919672, -0.09520881891348121, -0.2297290445439808, -0.2563725836929571, -0.2378520637623338, -0.32344562141842026]}\n",
      "{'r2_score': [-0.20542697253984965, 0.16679502772810906, -0.09958684279784857, 0.5837539260772762, -0.08626583706259372, -0.15824547302009728, -0.11342829086847872, 0.13978410019679866, -0.03839621812825178, -0.041788514433056534, 0.20671653043046012, -0.10036116960353625, 0.0820485104946842, -0.18746717780472566, -0.11782142812333785, -0.19156145150356174, -0.19903794500031946, -0.02378349070596908, -0.237115798645406, -0.2723064307892271, -0.21656701055363925, -0.29028160958649396], 'mean_squared_error': [0.013237639898392944, 0.022253726653590808, 0.0074308957976600126, 0.013153518685323742, 0.005736124120219169, 0.011352650209280144, 0.010246680950358777, 0.011274396330773586, 0.009870183144900587, 0.004260280137759474, 0.006312318494832461, 0.009735965968012808, 0.010953713500039965, 0.015424801564691979, 0.004940095613245399, 0.011376194128096661, 0.00818823435731868, 0.008142639110547302, 0.008296949703644089, 0.007903947184150066, 0.00445772522606881, 0.00502704380469509], 'explained_variance_score': [-0.20522341383770693, 0.16739908016353766, -0.09016817649450015, 0.5837560227206312, -0.0862291966018629, -0.15375385470304237, -0.11164162996884075, 0.14345002392100747, -0.03824007027912568, -0.03840991817463291, 0.2067279898233858, -0.09845530799328883, 0.08322293423593385, -0.18366041379947862, -0.11779835730311738, -0.1847404156233483, -0.1988373453306258, -0.01893026838667966, -0.2369947909181993, -0.27143625158910734, -0.21548019405930852, -0.28698233795229977]}\n",
      "{'r2_score': [-0.03579712795854961, 0.21773712945170853, 0.17358187486577614, 0.7710229508559348, 0.6733691236339647, 0.18102444524856331, 0.03555295282117232, 0.3121739300966989, 0.391146062483933, 0.18591645286970548, 0.033400427755827966, -0.08683098585854743, 0.1580997715594995, -0.19664644270580456, -0.028485949110970576, -0.11835912454156938, -0.10051344787303518, 0.18181107243373706, -0.26082015992234275, -0.1776617183305833, -0.1769718080998779, -0.20561406000059756], 'mean_squared_error': [0.01797782124962184, 0.03237375349857284, 0.011223871456765053, 0.045744802894596044, 0.030234505262324282, 0.016794914021036767, 0.02315297982342611, 0.014498383710012101, 0.01920375631878123, 0.018982101578206477, 0.007634875852990404, 0.010852937185428676, 0.03124260595448391, 0.014835365231746894, 0.010093802852473513, 0.013381207092135973, 0.012087890835403698, 0.0144122702434278, 0.009363612671947583, 0.007831739350563928, 0.005548451637189861, 0.005315404965704892], 'explained_variance_score': [-0.0348247929827592, 0.21798309082063994, 0.17396413452599935, 0.7713733790754651, 0.6739455161445483, 0.18102472915609247, 0.038445122085631334, 0.31227333289340664, 0.3914160552293866, 0.18596922863745746, 0.034352171025859635, -0.08672835281519564, 0.15860230861231117, -0.1961995286064051, -0.028352297215093136, -0.11718210316913091, -0.09941227398132702, 0.18202878697616143, -0.26074727843549694, -0.17730789307972916, -0.17608180123074035, -0.2021839101361369]}\n",
      "{'r2_score': [-0.025532078190920515, 0.2620568312019891, 0.2248274152555838, 0.715174910579952, 0.5203911533968102, 0.11795832002199891, 0.02573143066323247, 0.42158232285435404, 0.23487733798159738, 0.1367591837438782, 0.3815494261059459, 0.048010519136207574, 0.03014233896284646, -0.08914527568690023, 0.28679751876547077, -0.11798280765131008, -0.09204326854031142, 0.2309983046824272, -0.22478860213000673, -0.20955403547852347, -0.15399922723577664, -0.23594004998519558], 'mean_squared_error': [0.018044143108949355, 0.08552312597118746, 0.016638542923990488, 0.057078895617984245, 0.04398748687940913, 0.01537729068598071, 0.026654422792611793, 0.01980988742974562, 0.019170041950435892, 0.022537071385875337, 0.015296142761410553, 0.011395242177412212, 0.02808522485874833, 0.016000238829606606, 0.013152075846227415, 0.013309855607315114, 0.011684601398681278, 0.02327483092805701, 0.008336340069959734, 0.008285797869005471, 0.004772728157281402, 0.005306276969852911], 'explained_variance_score': [-0.025510290779741984, 0.26208664086060074, 0.22818290078406356, 0.7162194246310272, 0.5203951626080974, 0.11973882198257779, 0.029900594980910356, 0.4224638192861271, 0.23736596389463394, 0.13892884876309664, 0.3815533660956437, 0.05267168105173481, 0.030680807297685964, -0.0891358572059473, 0.28679915845330683, -0.10903232376846961, -0.09102998452622679, 0.23101063843520708, -0.22185264522620618, -0.20598927339854733, -0.14864839595090573, -0.23485890567619716]}\n",
      "{'r2_score': [-0.0945048848182175, 0.14854731648781905, 0.14786972107336882, 0.8199244533184563, 0.6845386413269101, 0.024400884867260997, 0.0290072255568814, 0.4523357095815006, 0.13673776171562857, 0.08937582824550161, 0.036526659177842036, -0.11352005111692143, 0.0033231021789885684, -0.18136367211143334, 0.2396761864294965, -0.07704955622049625, -0.12569908510017958, -0.05872758615397822, -0.2249140617533698, -0.22888225591266398, -0.22358390117903792, -0.2633258006252064], 'mean_squared_error': [0.01532062830042424, 0.03919502007867278, 0.012996214312190045, 0.04842963605227462, 0.04191027350842828, 0.012738360321325748, 0.022629163810422355, 0.02702939784013767, 0.01196362438574626, 0.014122613091722394, 0.00632658430244401, 0.012237649740145497, 0.017714792541186082, 0.013514195107569724, 0.010046075239227266, 0.014470692574818802, 0.009634516375490619, 0.008319644972571167, 0.008520879281576209, 0.008024824580203142, 0.004524645671870396, 0.004884451368508851], 'explained_variance_score': [-0.09394300707721803, 0.1500775089404882, 0.14982685184754663, 0.8200942039364332, 0.6845668077551385, 0.024511652418933827, 0.033350677247778626, 0.45490933739461925, 0.1417842808737032, 0.09020734929778018, 0.039140981120650675, -0.11336009318669849, 0.00384855790491323, -0.17502024226073565, 0.24060387431027297, -0.07695633778708189, -0.12291128280170782, -0.05646012812797441, -0.22425781902326447, -0.22608901761436773, -0.22358300413247267, -0.26289030221600407]}\n",
      "{'r2_score': [0.04132150710703708, 0.21701172623201614, 0.1769011692711, 0.7631779948948829, 0.6473928045180759, 0.10523584736756586, 0.04744119349347364, 0.3364353712614906, 0.2516648039368792, 0.15881132420081412, 0.17838949819072847, 0.1915946134876746, 0.16279098785710233, -0.029883326596281456, 0.02895999606604005, -0.08320947735666895, -0.19961286881973184, 0.35503960519052946, -0.20531287928670006, -0.20633453648772448, -0.18628428592708324, -0.27543061095247245], 'mean_squared_error': [0.017267754596050802, 0.05132604962023348, 0.014106135406682742, 0.06469642736505388, 0.06411861113532163, 0.015043861035430492, 0.02790636415362269, 0.0209633200590278, 0.017453758811868496, 0.02163762527473612, 0.00905612009529188, 0.01668754654509697, 0.02804813092185818, 0.015821864426556014, 0.010286629657081154, 0.014189116615431444, 0.011448499183442484, 0.020852680722708218, 0.008413614300739353, 0.008623753413192525, 0.005225711371228567, 0.005449223432083118], 'explained_variance_score': [0.041625229017008825, 0.21845246552863118, 0.17894122039895988, 0.7633266622564148, 0.6484466150452174, 0.1052766836214516, 0.04749487283593312, 0.33693164812320053, 0.2519750721320153, 0.15929831363360492, 0.17866709438739148, 0.19221398119316557, 0.16403496588996935, -0.029400235139450004, 0.031298964849459265, -0.08301560167724542, -0.19919581894152905, 0.35503965358012957, -0.20190513155514433, -0.20353461310406962, -0.17757170428110847, -0.2751189590438923]}\n",
      "{'r2_score': [0.04289781645004331, 0.3059283325037063, 0.18381002452803374, 0.7719588790459571, 0.7029951107011986, 0.05688380157659434, 0.057475443036245966, 0.3805345236812189, 0.3312426329391135, 0.10773553630702737, -0.03228551426844639, 0.24661472487004255, 0.13955016207110427, -0.1931998296326196, 0.07648149624074085, -0.1352225129145881, -0.1545600645523013, 0.26315086543808675, -0.21606630060293686, -0.2198068266738904, -0.23630362924434678, -0.244366851219874], 'mean_squared_error': [0.0178774754111759, 0.07785210831785348, 0.013354860576686578, 0.061859841437662835, 0.058696885060249754, 0.01493083382752614, 0.023995027800686665, 0.022716928320460003, 0.017621371619103907, 0.015676165964919796, 0.007193332868878571, 0.015438160883762498, 0.02177739103663886, 0.01432743836138788, 0.007992410167367634, 0.013095342374468107, 0.009438114935591673, 0.016620631889200214, 0.008314850909013202, 0.008056945392875069, 0.00504223313272328, 0.00486250499724823], 'explained_variance_score': [0.044086256919176114, 0.30597919568691045, 0.18396459470842164, 0.773189795015379, 0.7032981180165796, 0.057654854700257774, 0.057941565792313354, 0.3809352068786891, 0.3312840539290307, 0.10778206501150578, -0.03055475523561979, 0.24779294429224707, 0.13961999399355363, -0.1921446513612457, 0.07701377819431221, -0.13509036278186626, -0.15382257480761385, 0.2635940652840508, -0.21559589734707707, -0.21952339488152517, -0.2349946540188408, -0.24159971122655155]}\n",
      "{'r2_score': [0.39633015358704604, 0.06467952639467267, -0.14074885587407815, 0.9275983378545214, 0.823029974906969, 0.37558733574724534, 0.44274740452410644, 0.8967568775259123, 0.47039405229355413, 0.7847686556795948, 0.19531459309176202, -0.05810555240231263, 0.23272669060181783, 0.8045663820033351, 0.6692843439026687, -0.06778713526032254, 0.4068959483875786, -0.0211830006769147], 'mean_squared_error': [0.023490442434148096, 0.010719393864740561, 0.01095486586962713, 0.06915986673650436, 0.03269472504216823, 0.01009284724443422, 0.010099584417836208, 0.03549605808646761, 0.015806322552562334, 1.0716329242426326, 0.014063995119356602, 0.006307477787827754, 0.011702401004904986, 0.01517405658096339, 0.011474225401035985, 0.006140062696015449, 0.012045302779874433, 0.008302196731305271], 'explained_variance_score': [0.39660531936223997, 0.06615779981379333, -0.1385867144749362, 0.9278793575966444, 0.8230681468387706, 0.3757782214402843, 0.4432231461402095, 0.8971231406510918, 0.4712379187965411, 0.7848611943903087, 0.1974195413255937, -0.057973912653298765, 0.2454945737571047, 0.8054021933047913, 0.6700109725916621, -0.06728168684035163, 0.40689765011235535, -0.01832303336665575]}\n",
      "{'r2_score': [0.634281007898662, 0.08713103267327171, 0.03327297088502068, 0.8503977936814002, 0.7638186940814803, 0.7944379205464397, 0.25010070941871143, 0.7996988149299644, 0.5495501010778743, 0.7491182046442397, 0.576541423616073, 0.6160017595574349, 0.5104812441737779, 0.6531940291080953, 0.6391954243442812, -0.03082247214128686, 0.6011176339159094, 0.15235410691441675], 'mean_squared_error': [0.08287380345807631, 0.011276797052768335, 0.010091567185889442, 0.18064894831475226, 0.08283767475251387, 0.02672063748970948, 0.009426542116389072, 0.09357679391845658, 0.036007761024896466, 2.2615252156823655, 0.0224044477893233, 0.018229988041106916, 0.017032291324340317, 0.02552953801262932, 0.02525606639894632, 0.007369357629157742, 0.031120364111646027, 0.008157525907319904], 'explained_variance_score': [0.6363411545388062, 0.09709916691238496, 0.03438197566672341, 0.8522004623984201, 0.7727933722416632, 0.7959332826404172, 0.25948417881698127, 0.8012954381930181, 0.555485601976621, 0.7513833468076763, 0.5770292123563843, 0.6201933788181963, 0.5110965050305044, 0.6607079949503197, 0.6440965353229278, -0.020269906259362536, 0.611733539694059, 0.15399482840439183]}\n",
      "{'r2_score': [0.6747369424871947, 0.20656937235428596, 0.13497739176968426, 0.8775117082602687, 0.7420599133587211, 0.7901274540191983, 0.2003576733582384, 0.7688010692474372, 0.6189525949669055, 0.7946925507680151, 0.6342143351242195, 0.6092479365752121, 0.5644882197377274, 0.7070768717359937, 0.5302352736971213, 0.21289711256250887, 0.5796429619659863, 0.1296533091624298], 'mean_squared_error': [0.11476352509472598, 0.009161994719065095, 0.013645474711611979, 0.10604758367349668, 0.05620024897553509, 0.057638736766574244, 0.011561396626382371, 0.07238752453210091, 0.025086770692697248, 1.4985881604688225, 0.022919641323094105, 0.025766416147641146, 0.019008737358232723, 0.018385781685101608, 0.026145604661524435, 0.007283457177104827, 0.03156095076336149, 0.008527437296952477], 'explained_variance_score': [0.6749557909512744, 0.2107510106075653, 0.13700326988162237, 0.8788702758309829, 0.7427338175757999, 0.7901386284586108, 0.20036801322862152, 0.7727039088072207, 0.6217366878718988, 0.7951465761148432, 0.6343936172274885, 0.611523958346998, 0.565688222972299, 0.7124365473739811, 0.5305744606761478, 0.2129953125021664, 0.5803298090838143, 0.14311433596209855]}\n",
      "{'r2_score': [0.4428719540963245, 0.20383899476062917, 0.022465699304417774, 0.7822197029224227, 0.7050593678417666, 0.7292581650887606, -0.08668450025499608, 0.6745471603658253, 0.5250826071616805, 0.7204232227506187, 0.43663018030255174, 0.5410021962822159, 0.426129789352125, 0.6322986217912802, 0.45016317222787516, 0.265556192285051, 0.5812416602097841, 0.13447903045024634], 'mean_squared_error': [0.06775936937009289, 0.011722075667451613, 0.012006978570179565, 0.14143392096392388, 0.050587189128821666, 0.04088916192892725, 0.011634389718886418, 0.0482651236446579, 0.023429993526543944, 0.9349141619978094, 0.0209007033695359, 0.029594105597167283, 0.013804910447148983, 0.015591450755460173, 0.01276679419123969, 0.007270624095627143, 0.036637637735021183, 0.010207625005474785], 'explained_variance_score': [0.450750003362976, 0.20567112490150885, 0.04363121440465467, 0.7871994014113933, 0.7083948614698845, 0.7300867124675506, -0.08125729584052621, 0.6786768949823334, 0.5300635552689678, 0.725698540218547, 0.4390239993354431, 0.5445711422544914, 0.4296595399844715, 0.634772861763439, 0.46666513994511716, 0.2743854403288747, 0.588269377509345, 0.1388604941217152]}\n",
      "{'r2_score': [0.313430014015725, 0.03591775203759395, 0.14172440412950216, 0.7442387088603455, 0.7922570800693246, 0.28606052992544284, 0.1633527790558491, 0.7589143328563952, 0.3006403815909602, 0.5781298444128853, 0.360154747113957, 0.30093124338252986, -0.07717001562080372, 0.34793059371572876, 0.3923253402712614, -0.23739093507864428, 0.570144615679824, -0.02293145905849614], 'mean_squared_error': [0.06191744621717401, 0.01017504440578965, 0.010341987729491544, 0.08677430839743011, 0.040636041420498134, 0.024418949556058913, 0.01245270968478483, 0.025645333657136962, 0.01739088830381269, 0.3021067834357641, 0.016687532209756, 0.017581077388397388, 0.009960130684703519, 0.009732891796104612, 0.0078044708028376835, 0.0073947088149945335, 0.06724828601754987, 0.014481547447535825], 'explained_variance_score': [0.3188554109420021, 0.036211238589832884, 0.14440972195816038, 0.7456268218348628, 0.7924301625417016, 0.2961227544937307, 0.16337700676037503, 0.7589149958031977, 0.30072567644563886, 0.5794645280085886, 0.360192039830324, 0.30703820939958637, -0.06546746597014885, 0.3480353790382892, 0.39241820132185823, -0.22973840984000238, 0.5703381136245893, -0.01603200429520868]}\n",
      "{'r2_score': [0.6294019722150768, 0.00013753496387247655, -0.06134998813368342, 0.7574221198982497, 0.7089460453848708, 0.33711246143638196, 0.1437852617703128, 0.8159275601741566, 0.45655522326796016, 0.7570153202302532, 0.45606184211162093, 0.6541624994932318, 0.38280393819909764, 0.44363836781576016, 0.580485774129398, 0.13837480854379847, 0.6780479247115685, 0.30092931377129106], 'mean_squared_error': [0.13767214055098162, 0.008302844946124642, 0.012662638979677855, 0.10883502088785281, 0.04207910306256632, 0.03281338448181479, 0.01276197438528945, 0.04738211069564251, 0.023705145959927582, 0.6724538120097087, 0.021603532216585033, 0.04557845599752373, 0.011167551215109027, 0.01307180944899305, 0.010741385099661696, 0.008144296022654936, 0.0434477664296709, 0.014053705801909181], 'explained_variance_score': [0.6294569471260416, 0.006697449265726463, -0.06043743452509065, 0.7580034947123319, 0.7100055932830581, 0.33735311252993205, 0.14385126409399474, 0.8190382683098367, 0.4609028816060774, 0.7586510276394586, 0.45606464919815115, 0.6545227031252038, 0.38751497159315007, 0.44622491577611745, 0.5809620384167611, 0.13889146406357256, 0.6788056848145507, 0.30173881720137874]}\n",
      "{'r2_score': [0.5335517414987319, 0.11235402348622392, 0.11773897215952711, 0.6860927516486736, 0.6333731901117874, 0.525689420813065, 0.2014682146251321, 0.6596335633447431, 0.48025086807603945, 0.6792221364001462, 0.6039639719680427, 0.5145514206400469, 0.12879495339223113, 0.6236223863417056, 0.4952635360820965, 0.2544288791116691, 0.6371566250741707, 0.3110930986598436], 'mean_squared_error': [0.16673140834875091, 0.010033726339623211, 0.01251903078719613, 0.1720563253358021, 0.04433850709648492, 0.04946550888804245, 0.014189800225904353, 0.04239060398194795, 0.0204129099668735, 0.7411681265394604, 0.026301531301897982, 0.03125191445394064, 0.011441526723025591, 0.015587580107806634, 0.008861017486938298, 0.007527238382057197, 0.03486936478032815, 0.016105723397641023], 'explained_variance_score': [0.5340327964802497, 0.11529313614852932, 0.13182640707000937, 0.6873746074202094, 0.6381875756541886, 0.5260128407755901, 0.20412113065266946, 0.6596728345058487, 0.48027777226257096, 0.681305009012043, 0.6053676635027081, 0.5176450138627692, 0.13053296647376522, 0.6237365860418995, 0.4985188907367556, 0.2715891591604407, 0.6416648933670721, 0.32224830129257165]}\n",
      "{'r2_score': [0.725599866659381, 0.08187223756126827, -0.13368876228033888, 0.7014865555414147, 0.7255568855061612, 0.6754746893634767, 0.3147470430824125, 0.5537422520316959, 0.42897968351839655, 0.70204612054076, 0.7228151586619664, 0.5560375382759228, 0.09371933101025642, 0.43701591228554415, 0.35496546407322216, 0.17514519739440548, 0.5886832356207342, 0.006440016935832404], 'mean_squared_error': [0.1297696584548485, 0.008564674864126496, 0.011620665633056457, 0.13949263885208826, 0.05085099968709887, 0.04187325172686694, 0.010350897658683834, 0.02801262616343071, 0.01835838614103488, 1.1080395896541027, 0.022864273763618097, 0.01989102672588239, 0.009255995517598358, 0.013486017533605973, 0.012968242361195077, 0.008644685718685402, 0.04918946497590885, 0.011992273504086501], 'explained_variance_score': [0.7257630441370618, 0.08615336075085311, -0.12981556252363013, 0.7050174920423695, 0.7261411714861192, 0.6755918027738632, 0.31505423546659184, 0.5569998350449338, 0.4311755548464493, 0.7032427023253232, 0.723699142076541, 0.5755054376542266, 0.09792103714963007, 0.44209617792313805, 0.35496581708487984, 0.18067985864615033, 0.5911511124325564, 0.006464311857034444]}\n",
      "{'r2_score': [0.3833432410744745, -0.04927880214029323, -0.04371968481717792, 0.6969597021927331, 0.6496301253846044, 0.25022299707764317, 0.07568807041716097, 0.7726900684811551, 0.21238250126048996, 0.6676346893483366, 0.5895751219982699, 0.3349660336305349, -0.03804551164292058, 0.2644864631076802, 0.4609341356210874, 0.2134887585950601, 0.6594976398613641, 0.0022499367476240817], 'mean_squared_error': [0.07289227123552255, 0.009160912086822653, 0.008243786857717442, 0.05726578083708119, 0.04741116820186461, 0.02800903179030702, 0.009638868570081227, 0.02054266514484542, 0.0166747677182611, 0.3667521430933124, 0.027010331370211357, 0.01963555939951282, 0.009230285485905378, 0.012327581081569892, 0.009108699649984505, 0.008471286106883375, 0.0649014176965933, 0.013719914690531985], 'explained_variance_score': [0.4117983772266012, -0.028466779596310943, -0.04335178648468818, 0.698503548023846, 0.6502425909803021, 0.25202257088969515, 0.08559762008806127, 0.7752352360305554, 0.21523153511198856, 0.6692470282026333, 0.589897712939355, 0.34073850091951674, -0.037345627284401495, 0.26506392844951365, 0.46119499893463645, 0.2272485926955713, 0.662128418151591, 0.0036887052592782243]}\n",
      "{'r2_score': [0.5296503755672978, 0.06610219842627796, 0.014937323574081951, 0.736048699601864, 0.7263645846608418, 0.6175387542696897, 0.25361107015756945, 0.7480799498077119, 0.5556328995668034, 0.8094390491471155, 0.3256985491219362, 0.6789105886744757, 0.3986795424181543, 0.47600260635898617, 0.5744488304980824, 0.47374566455565315, 0.6294006376708474, 0.14508794538302572], 'mean_squared_error': [0.05402341037178345, 0.00984881146141403, 0.01128006415746381, 0.13156014839562963, 0.04295287668211749, 0.03884965985975813, 0.012566485655672257, 0.03806977170681234, 0.018308779047201837, 0.5415221232120125, 0.03240557271404611, 0.13170457490600287, 0.011634753122988256, 0.011376208468562524, 0.010554004772975818, 0.008704949546130974, 0.07129709801843004, 0.011834617742660569], 'explained_variance_score': [0.5317885513560037, 0.0661536109443357, 0.016875669027334395, 0.7402177708175672, 0.7267687988308157, 0.6180929119520557, 0.2536453046317396, 0.7494301021253286, 0.5569347249961535, 0.8114565878872226, 0.3279543885351952, 0.6817625174615501, 0.40372183323459776, 0.48022211106050916, 0.5744923935962616, 0.4738346846905255, 0.6296434244974889, 0.14554854259999628]}\n",
      "{'r2_score': [0.47765135225639477, 0.08090566271999333, 0.2224551056264038, 0.07905153294041656, -0.04367187109864701, 0.2870369130836974, 0.18763325170359968, 0.5527645772461233, 0.18526437603001122, -0.05081468422602131, 0.8998690393425011, 0.6623676486305154, 0.7925258288118459, 0.16947279567048157], 'mean_squared_error': [0.009657046849191712, 0.008281927205651908, 0.01409036659940155, 0.028453497171665253, 0.009034506044783884, 0.017280027272475462, 0.022235455549590073, 0.020426196164077398, 0.013207862558345763, 0.013987649656254432, 0.14616339759903677, 0.1739625026550791, 0.030408082552220977, 0.015218576790714885], 'explained_variance_score': [0.4778789499113463, 0.08092873202049977, 0.22790803068533438, 0.07908144414080276, -0.043659202643030914, 0.28924141475860365, 0.18791267816200052, 0.5554977628809192, 0.18551651159391125, -0.05053147596389129, 0.8999045823919768, 0.6623696885608807, 0.7926885899973211, 0.16955689760956427]}\n",
      "{'r2_score': [0.7252642290681037, 0.19943279113129497, -0.07803952283481719, 0.28674165520331996, 0.1257314190521981, 0.36892604307468624, 0.16909806564868268, 0.6433627211043982, 0.3328145673803511, 0.03751677993208835, 0.8465103479473487, 0.8377902707562999, 0.8417223833199097, 0.2193162118181451], 'mean_squared_error': [0.01276011275299552, 0.010543407852102945, 0.010088432273259743, 0.031289338100291816, 0.012343124192589374, 0.017128284737747884, 0.02205552765539551, 0.0152471034327382, 0.015183100697271114, 0.013920665926485734, 0.25479789164149497, 0.17725460841934498, 0.03273103080245076, 0.028813747155181122], 'explained_variance_score': [0.7254026926863038, 0.2012156608557032, -0.07767448332858051, 0.2882814614002729, 0.12954270702848003, 0.38022737719550115, 0.16927662953471756, 0.643474953232036, 0.33293437708173135, 0.04042703625884014, 0.8465114733448523, 0.8379980090907393, 0.8426042658332336, 0.22221918182633627]}\n",
      "{'r2_score': [0.03462605839198718, 0.2078747247674736, -0.12314087886619096, 0.24491557963416466, 0.13590877595703654, 0.3366163621834465, 0.15740627649310046, 0.5997210535215605, 0.40260645454322386, 0.0711264357780913, 0.7646317003437492, 0.6539895846257544, 0.6767343429524583, 0.29950604112773005], 'mean_squared_error': [0.009652113283949151, 0.0085906263273819, 0.010047081667845403, 0.04524627936368087, 0.00871409141304596, 0.019960629218639604, 0.022621489701135672, 0.014397373861504373, 0.01449068872017462, 0.012846018049558127, 0.14918180838640543, 0.09500542740211972, 0.026958088287736715, 0.015747948145008312], 'explained_variance_score': [0.03462891569466531, 0.2093837019661331, -0.12014426752786878, 0.2517933751091621, 0.14154734888576248, 0.3381704509255795, 0.1577379146112512, 0.605382165099549, 0.4028585505302904, 0.07214984973814231, 0.764770574127512, 0.6551179756883966, 0.6785505884010823, 0.30251572466871723]}\n",
      "{'r2_score': [0.022357381804594012, 0.3370598651623802, -0.007223978923658558, 0.33384471095364776, 0.10392535193784869, 0.3933448742424245, 0.04789335542746043, 0.5911857556713549, 0.3677340364488133, -0.10869537770682514, 0.8010020919842941, 0.6330903095718264, 0.6076597198340787, 0.013410268539095549], 'mean_squared_error': [0.007249667661396628, 0.014867054973041747, 0.00956493184813669, 0.033964050776754344, 0.012541748407079278, 0.02160489412343411, 0.024990189943766505, 0.014929850709086492, 0.014008633666424528, 0.01603524292257675, 0.0662779786497456, 0.05751445731130035, 0.051569468178429105, 0.013733269644391694], 'explained_variance_score': [0.02253506624242896, 0.337142652546625, -0.007223824216885388, 0.33420262141573565, 0.1046188501284836, 0.3936635954488711, 0.07828594913862363, 0.5914646516202108, 0.36830231437658345, -0.10781835216899838, 0.8020202488143438, 0.6366607140317452, 0.6135444944432656, 0.01568409861968245]}\n",
      "{'r2_score': [0.22794496143057763, 0.19387502601587225, 0.2289022986337984, 0.06310804910360301, 0.3609504465267186, 0.40284263654980057, -0.11704508064009356, 0.3998391209898312, 0.5670857757926617, 0.03348038837132561, 0.8551416697655478, 0.5177990546289989, 0.5435784222294486, 0.36090996396965713], 'mean_squared_error': [0.008228520264211017, 0.008645693452061823, 0.013930529729348993, 0.06446896829702538, 0.018427027058842475, 0.03116776570226985, 0.02226162266334467, 0.009480676123505062, 0.021598391974245, 0.014624985915066962, 0.08292277124731529, 0.07162541168324511, 0.0752330285197296, 0.026014285273221176], 'explained_variance_score': [0.23527567670760186, 0.19404551423591077, 0.23132454938235392, 0.06507829101774831, 0.3623386781014146, 0.40291699552609384, -0.11667001610199002, 0.4016737785471125, 0.5671995592456349, 0.03475916085456188, 0.8562860925527287, 0.5182446683510925, 0.5436063149037664, 0.3612340475346427]}\n",
      "{'r2_score': [0.29608815646878883, 0.4272316606445479, 0.11649324414403106, 0.4308463724559496, 0.03525892240534756, 0.29969714925440005, 0.15153747409474927, 0.5515758292731082, 0.4849551254014868, 0.5510159366277396, 0.7718052332269203, 0.710722624287431, 0.874080695278866, 0.2685600297074877], 'mean_squared_error': [0.00888094048429586, 0.013179933070202392, 0.012444559815623969, 0.03157463977414454, 0.01086212695591815, 0.01846818183740405, 0.027022826522920516, 0.0073758809560104475, 0.01193937342619683, 0.038281809572404533, 0.18735931864288882, 0.07199860857859848, 0.04739950837061238, 0.011220934515490444], 'explained_variance_score': [0.29949300757726827, 0.4284127628616068, 0.11658173139537886, 0.4342840502070183, 0.03608135025237025, 0.2996976408336004, 0.15168462741012345, 0.551576598927193, 0.486640642489067, 0.5514432626510986, 0.7732000217386368, 0.7107878880305638, 0.8744713760680227, 0.2692306346212021]}\n",
      "{'r2_score': [-0.03184354806490419, -0.0397081249048572, -0.036046107714375, 0.16887146503326578, 0.24616549511741126, 0.39293563410226295, 0.09201195879965907, -0.05286930754949193, 0.4436498642905585, 0.02517802438017258, 0.7715694915180609, 0.5205343499920445, 0.6012019274787053, 0.3882451869652417], 'mean_squared_error': [0.008838908801631391, 0.01047811447657578, 0.01075462743346527, 0.04730216084470595, 0.018015655724712976, 0.031326877037811215, 0.018919236713139134, 0.008175797940644559, 0.02683240734339659, 0.017593962699141322, 0.1307783200815313, 0.06898428945950329, 0.03263183097809394, 0.02152436482822089], 'explained_variance_score': [-0.031768966842830704, -0.032611807741884435, -0.035906881501202914, 0.17125916981139944, 0.25245663304912147, 0.39308199423415835, 0.11880357407007291, -0.042334245692490446, 0.443658033413018, 0.025208062655344032, 0.7729070623497949, 0.5244492305657424, 0.6056181086599666, 0.3915754260047001]}\n",
      "{'r2_score': [0.2333786471140673, 0.18540814358182633, 0.3016532535478583, 0.2814595713586955, 0.27150906119703244, 0.5336922015106216, -0.060436989746812886, 0.4425096237481698, 0.27366700818379275, 0.09241075215171068, 0.6683889804733376, 0.5604464661488362, 0.7463435408333335, 0.14843415544334593], 'mean_squared_error': [0.00884162555093757, 0.010488071173412886, 0.01435388626694521, 0.03875050809394031, 0.011270972090891297, 0.06127044408294365, 0.018808884022040714, 0.009706248063006016, 0.013026931448052604, 0.01611843707773941, 0.09909338415391972, 0.08567109524595096, 0.05670239541565684, 0.011032622896586023], 'explained_variance_score': [0.23342237049437375, 0.18541250694756184, 0.3018902671115562, 0.28186759954774243, 0.2727587883106253, 0.535554271981372, -0.054784073818036516, 0.4488967849503206, 0.2822835095262395, 0.09775730440753572, 0.6684167826298482, 0.5605419193487546, 0.7464046765864787, 0.15106608842696212]}\n",
      "{'r2_score': [-0.04226058456469062, 0.46136523812628083, 0.18432413526528568, 0.13220979088396967, 0.038320845194426245, 0.7571137622615415, -0.10204068297840374, 0.07360532962235422, 0.3123035721226073, 0.09053775250844831, 0.8124009102359694, 0.30454995250628825, 0.7354016251304724, 0.19223626291875362], 'mean_squared_error': [0.008988679915249789, 0.013523754496249209, 0.015386986551962507, 0.04416292906498639, 0.010465149096231034, 0.04006491452668279, 0.018702624076134048, 0.008890522096657036, 0.023462512267705203, 0.018721506365844128, 0.05220169641149101, 0.04234339132411831, 0.020552408102374103, 0.01224513397942954], 'explained_variance_score': [-0.03907040805653428, 0.4629130226532786, 0.19293491280262165, 0.13227464353911, 0.03917324721825566, 0.7572019663231864, -0.10198149176441818, 0.07430148784512869, 0.3127794196675674, 0.10200186041534198, 0.8141629561295082, 0.3087817982373873, 0.7357400226961175, 0.19355783884569655]}\n",
      "{'r2_score': [0.39154049594375073, 0.4495384744334505, 0.46376283230504134, 0.23674403597848748, 0.18119929985185068, 0.4381795074987954, 0.014919947288091984, 0.6379245276804759, 0.36443598641077024, 0.1540061130724616, 0.8487089749724437, 0.8096593397730686, 0.751196817094737, 0.1684765150099744], 'mean_squared_error': [0.008019019521292253, 0.01634564813169637, 0.02213114430976012, 0.033563828934456925, 0.013440063489511022, 0.03206515028551817, 0.02224858142551786, 0.012220310244900811, 0.02013451122834878, 0.018706029540915128, 0.1254626096062555, 0.0558464897379001, 0.09378181375748114, 0.01583788110745867], 'explained_variance_score': [0.3925928586261235, 0.4505295170090984, 0.46381196753138587, 0.23677580355893157, 0.18198152013844626, 0.43821170693307177, 0.015041211915788555, 0.6390951803866344, 0.3794866134155098, 0.15403760690377233, 0.8489463364203377, 0.8098702831210501, 0.7513490344522157, 0.1701540004332287]}\n",
      "{'r2_score': [-0.2703604047792858, 0.07765897300133418, -0.0073810051723444126, 0.34649108717048616, -0.31291353177154013, 0.253979594286567, -0.20054816605673875, 0.12528580191922511, 0.18801257712906505, -0.13301881132911753, 0.7883180237823764, 0.0348916609191654, 0.7367768101109263, 0.027051599142868032], 'mean_squared_error': [0.006796078805917983, 0.006299898192253405, 0.010458403630620465, 0.015430070437579477, 0.008501703720154867, 0.015182324800069912, 0.02009166616596474, 0.006371001828338622, 0.005679175281901177, 0.008206806548232798, 0.027806861028821572, 0.009308097612904513, 0.04319454466597398, 0.008989929147744392], 'explained_variance_score': [-0.2694527825843225, 0.077659368586392, -0.006662211307135957, 0.346570128792119, -0.3109303412272535, 0.2587736375019747, -0.20040742286361501, 0.12534873572302385, 0.1970334880135266, -0.12699443940566701, 0.791482499678722, 0.037505387206820284, 0.7372577559769842, 0.027271038703133743]}\n",
      "{'r2_score': [-0.29262408824428054, 0.4668963603300671, 0.26874269449940225, 0.17920824506560884, -0.23470514844048918, 0.6573471417853464, -0.29930862907390354, 0.17158726581499262, 0.12304250162691355, -0.02225238183034639, 0.7995743784764883, -0.09106747946999239, 0.8344883901535393, 0.08073586637649754], 'mean_squared_error': [0.007422824990053136, 0.02019923910850672, 0.011086277924897687, 0.017324498294137104, 0.008100091474065136, 0.030154541346395784, 0.019598464851588584, 0.006944695693942113, 0.007684129918037263, 0.009577704205329655, 0.037722265992088055, 0.009089126096723726, 0.039464551931094057, 0.010124094318824396], 'explained_variance_score': [-0.26378606124454995, 0.4718374385851225, 0.26924872684942636, 0.18623401318561006, -0.21956614175415523, 0.6619256181538766, -0.2955678530396997, 0.18722300798622893, 0.13246560677402264, -0.014475472335228945, 0.7997574136098333, -0.07463585087801383, 0.834491015051195, 0.08125949519293985]}\n",
      "{'r2_score': [-0.21931257625157063, 0.663878360599075, 0.30620151844337273, 0.2559845207504561, -0.2691942550775783, 0.3143144314273798, -0.06982128820451239, -0.014095526001144831, 0.05328094144536166, 0.4999272249644049, 0.8299912546473418, -0.004449663094904022, 0.8712936912629322, 0.09461161563976273], 'mean_squared_error': [0.007287482287316035, 0.013248818803689897, 0.01714345167996925, 0.026790837104439184, 0.009851520961779065, 0.019479386487190206, 0.01896844214066147, 0.007527335954307334, 0.009546782688876704, 0.027047524383450455, 0.05777118541730494, 0.011961574618365362, 0.05940881137695961, 0.015213733916308354], 'explained_variance_score': [-0.20503025853757761, 0.6639798583423101, 0.306376559266609, 0.2588986866223908, -0.2636270297661625, 0.316207198303866, -0.06917422870904355, -0.013273272561778793, 0.053946747787897986, 0.5046101368820453, 0.8386289554961913, -0.0032243060754282293, 0.8716301101977433, 0.09552216612941433]}\n",
      "{'r2_score': [-0.2996811170788518, -0.05466314724866539, 0.0034977286402302354, 0.03601947601721467, -0.01189365354747407, -0.1783042668013488, 0.06346999327978431, -0.013700356407572833, 0.009455186172653729, -0.23229655256679482, 0.8293243650038028, 0.08032566683465736, 0.8974948310559345, 0.3149971374317243], 'mean_squared_error': [0.006445610498868519, 0.0068767970027686625, 0.01041751379505356, 0.025015049746222488, 0.00990388668254612, 0.014240284266931748, 0.01733667579721647, 0.008155441147156486, 0.011682932209384732, 0.01122628956232892, 0.08363334826699152, 0.013671928948272615, 0.04905396034153364, 0.01797804608873567], 'explained_variance_score': [-0.294268223930376, -0.054613598734090774, 0.017934621338699275, 0.042059951487577574, -0.011745266933453236, -0.17826895475129878, 0.0634876345923664, -0.01136052540669752, 0.010441751926896226, -0.23224746690516862, 0.8320931334922774, 0.08034973661523093, 0.8993100180980281, 0.3150383026698286]}\n",
      "{'r2_score': [-0.2296688049172808, 0.1975086495442604, 0.3610449537579612, 0.0013863741082341674, -0.06737349439606333, 0.39016841206911723, -0.1046326361088028, -0.04147279546199467, 0.17483015746025665, -0.05285144307654632, 0.8131460649719359, -0.007091249153804435, 0.7592057910467213, -0.07495369991184475], 'mean_squared_error': [0.006677223665429503, 0.00850144012028623, 0.015535957234459814, 0.024450694951779234, 0.008470307888584503, 0.016362140317735627, 0.02776563909633508, 0.008405670406073385, 0.008690631183826139, 0.009981618073935952, 0.05127002416898889, 0.014016384508491835, 0.02263878901489865, 0.012055914780673813], 'explained_variance_score': [-0.22849066722796096, 0.20717788568566053, 0.36997583359217734, 0.009271431209274872, -0.06737137341319865, 0.40007221666973125, -0.103778282459275, -0.02638900032092595, 0.1765127687812751, -0.04932662878462413, 0.8140600331220762, 0.0028890849886566983, 0.7603370033429458, -0.06090264740965301]}\n",
      "{'r2_score': [-0.19326809739752915, 0.22628145256392052, 0.2928063382825392, 0.04845844688032941, -0.3259866966742735, 0.39253441487659513, 0.0375024607157769, 0.013945439956196348, 0.1277676385697264, 0.02468858722093814, 0.7774224782025703, 0.2825129109450152, 0.8318933453516331, 0.017662747257177647], 'mean_squared_error': [0.007115590334732666, 0.008188616133057785, 0.018091867526576835, 0.03441363083516549, 0.008479691599895091, 0.018777804767226368, 0.03060097865379799, 0.00878537026411285, 0.01348248514748819, 0.014709565631668945, 0.04050721756197088, 0.02010293054208763, 0.03662898026173536, 0.018211913675949994], 'explained_variance_score': [-0.18684426971092538, 0.2270604642606795, 0.29407610252297456, 0.05115802609813136, -0.3256522218734246, 0.39305521428414114, 0.038342507534683934, 0.014005307264927769, 0.12894746897807152, 0.027964293457584777, 0.7818108829909767, 0.28626901032046126, 0.8323469985362113, 0.029232779362381]}\n",
      "{'r2_score': [-0.21872104464092246, 0.046248431109208954, -0.06354445595809355, 0.21443755418399912, -0.19552003135598528, 0.44099882772901255, -0.055560963358537, -0.016578175571406728, 0.22231877735271255, 0.008966081471807885, 0.8415203861551543, 0.13440731447298182, 0.8476546469147306, 0.011245137079555434], 'mean_squared_error': [0.006921485514746379, 0.010626823130555402, 0.0123076110668132, 0.048918991891347983, 0.009007140788094904, 0.028021057218182807, 0.01918878938947551, 0.008219816909623246, 0.01416205503242292, 0.01594998443896528, 0.03415407449965969, 0.014244156158592746, 0.0488320638250762, 0.01567322539356872], 'explained_variance_score': [-0.2155471877377697, 0.04933046864575352, -0.04745561716996094, 0.2171933187214683, -0.1913791539489993, 0.44348062933563726, -0.05399931921679668, -0.015636485580664994, 0.22714531957877637, 0.012608760486281456, 0.8424891791993112, 0.13480881590151272, 0.8534900767359965, 0.01222747430072657]}\n",
      "{'r2_score': [0.04259797442739688, 0.5570657533031063, 0.5542849023459603, 0.0931776654351607, -0.21079867582931278, 0.5113380355212299, -0.016800089273239394, 0.26754398562575354, 0.3021445557484024, 0.34637005845715163, 0.707586873048101, 0.2552813501250628, 0.8231002470057147, 0.20483551686113466], 'mean_squared_error': [0.007697418111096334, 0.02643133441391353, 0.05487383198615604, 0.04451511058935921, 0.009908728850446082, 0.047127931681804985, 0.02562640914400086, 0.011628917573857797, 0.01850876037584937, 0.027952856338224308, 0.0645772437247987, 0.022496453396519015, 0.11460636185349032, 0.014024722346473523], 'explained_variance_score': [0.045401240293207246, 0.5627887363007277, 0.575282567594013, 0.09320884194515411, -0.20161109076590056, 0.5321944177443365, -0.01613359507452783, 0.2675659871887035, 0.30224273047070316, 0.34639723026679814, 0.7088343147804079, 0.25528769998708967, 0.8237101525589505, 0.20750795538779543]}\n",
      "{'r2_score': [-0.25210709985316737, 0.21084454096405636, 0.35889336478206435, 0.17907322008879434, -0.27851660920688004, 0.3041723020478684, -0.14197183376519984, -0.02017676658143297, 0.19359642216437944, 0.28199726972722305, 0.502993944090538, 0.0841431435501182, 0.8133623672081688, 0.04352791407801648], 'mean_squared_error': [0.007205256102206632, 0.01239216436201341, 0.020577936786497875, 0.058810898919335636, 0.00833640797848262, 0.02977038354245481, 0.020637648885130026, 0.009824178920164068, 0.013420629949282155, 0.06186026563958782, 0.011844193728615861, 0.01700032397182579, 0.036908329833844046, 0.013874929891804723], 'explained_variance_score': [-0.25115224345685716, 0.2161384988876961, 0.36004723262071403, 0.17985604673691502, -0.27434863758301997, 0.30417251360097086, -0.13243895324363208, -0.010762490085363785, 0.2014881406034159, 0.28339120663456496, 0.5034237749879824, 0.09085859816006436, 0.8138822961191876, 0.049605570690127276]}\n",
      "{'r2_score': [-0.015203211898377589, 0.03951652755104851, 0.5355754725798405, 0.028940825692551186, -0.017876674450245655, 0.4673931228654432, 0.0010397355075526526, -0.07867523037780622, 0.00033015734075236836, -0.02251284156663469, 0.7833774766812125, 0.054786308119799676, 0.8181020923160157, 0.06101929298829156], 'mean_squared_error': [0.00761821418482938, 0.008577565372521705, 0.024018444965825125, 0.053372732180485744, 0.008801074003573682, 0.02564476542825373, 0.023178046912000223, 0.008456138950502377, 0.014601077483715169, 0.01641189696446905, 0.047327443496741714, 0.02003326635090313, 0.05764132611545167, 0.01577771689442124], 'explained_variance_score': [-0.0146308750548374, 0.04194261578290437, 0.5366507999567358, 0.033581242133370326, -0.016122315763859696, 0.46755660730604187, 0.006780644110327083, -0.07861008114040091, 0.000934851243986734, -0.021434317686992, 0.7840225917208916, 0.05478636888714039, 0.8187175384257088, 0.06462019189257329]}\n",
      "  regression_model            transformer_model     transformer_model_prefix  \\\n",
      "0            Ridge  google/vit-base-patch16-224  google_vit-base-patch16-224   \n",
      "\n",
      "   allen_container_id                                      hash  \n",
      "0           660492886  b3a87088dd80a7cb1bae9564561954c3e23b872a  \n"
     ]
    },
    {
     "name": "stderr",
     "output_type": "stream",
     "text": [
      "/home/maria/HuggingMouse/src/HuggingMouse/regressors.py:96: FutureWarning: The frame.append method is deprecated and will be removed from pandas in a future version. Use pandas.concat instead.\n",
      "  data_index_df = data_index_df.append(pd.Series(current_row, name=len(data_index_df)), ignore_index=False)\n"
     ]
    }
   ],
   "source": [
    "from dotenv import load_dotenv\n",
    "import os\n",
    "\n",
    "load_dotenv('.env')\n",
    "\n",
    "print(os.environ.get(\"HGMS_ALLEN_CACHE_PATH\"))\n",
    "\n",
    "import sys\n",
    "sys.path.append('/home/maria/HuggingMouse/src')\n",
    "from HuggingMouse.regressors import VisionEmbeddingToNeuronsRegressor\n",
    "from sklearn.linear_model import Ridge\n",
    "from sklearn.decomposition import PCA\n",
    "from sklearn.metrics import r2_score, mean_squared_error,explained_variance_score\n",
    "from HuggingMouse.allen_api_utilities import AllenExperimentUtility\n",
    "from dotenv import load_dotenv\n",
    "from transformers import AutoModel\n",
    "import os\n",
    "\n",
    "metrics=[r2_score, mean_squared_error,explained_variance_score]\n",
    "regression_model=Ridge(10)\n",
    "m=top_10_keys[0]\n",
    "model = AutoModel.from_pretrained(m)\n",
    "exps=AllenExperimentUtility()\n",
    "exps.info()\n",
    "exps.view_all_imaged_areas()\n",
    "id=exps.experiment_container_ids_imaged_areas(['VISal'])[0]\n",
    "VisionEmbeddingToNeuronsRegressor(regression_model, metrics, model=model).execute(id)"
   ]
  }
 ],
 "metadata": {
  "kernelspec": {
   "display_name": "base",
   "language": "python",
   "name": "python3"
  },
  "language_info": {
   "codemirror_mode": {
    "name": "ipython",
    "version": 3
   },
   "file_extension": ".py",
   "mimetype": "text/x-python",
   "name": "python",
   "nbconvert_exporter": "python",
   "pygments_lexer": "ipython3",
   "version": "3.9.13"
  }
 },
 "nbformat": 4,
 "nbformat_minor": 2
}
